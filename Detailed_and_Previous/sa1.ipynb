{
 "cells": [
  {
   "cell_type": "code",
   "execution_count": 1,
   "id": "fa58f9c1",
   "metadata": {},
   "outputs": [],
   "source": [
    "import pandas as pd\n",
    "import numpy as np\n",
    "import matplotlib.pyplot as plt "
   ]
  },
  {
   "cell_type": "code",
   "execution_count": 2,
   "id": "cfed00bd",
   "metadata": {},
   "outputs": [
    {
     "name": "stdout",
     "output_type": "stream",
     "text": [
      "            date home_team away_team  year  home  away  goal_margin\n",
      "0     1879-01-18       EU1       EU3  1879     1    -1            1\n",
      "1     1880-03-15       EU3       EU1  1880    -1     1            1\n",
      "2     1881-02-26       EU1       EU3  1881    -1     1            1\n",
      "3     1882-03-13       EU3       EU1  1882     1    -1            2\n",
      "4     1883-02-03       EU1       EU3  1883     1    -1            5\n",
      "...          ...       ...       ...   ...   ...   ...          ...\n",
      "8760  2021-07-20       NA2       AS1  2021    -1     1            2\n",
      "8761  2021-07-24       NA1       NA2  2021     1    -1            3\n",
      "8762  2021-07-24       AS1       NA2  2021     1    -1            1\n",
      "8763  2021-07-25       NA1       NA1  2021    -1     1            2\n",
      "8764  2021-07-29       NA1       NA1  2021     1    -1            1\n",
      "\n",
      "[8765 rows x 7 columns]\n"
     ]
    }
   ],
   "source": [
    "data = pd.read_excel('Cleaned_results.xlsx')\n",
    "data = pd.DataFrame(data)\n",
    "\n",
    "print(data)"
   ]
  },
  {
   "cell_type": "code",
   "execution_count": 3,
   "id": "5dcc3c64",
   "metadata": {},
   "outputs": [
    {
     "name": "stdout",
     "output_type": "stream",
     "text": [
      "            date      home_team      away_team  year  home  away  goal_margin\n",
      "533   1930-07-15            SA1         Europe  1930     1    -1            1\n",
      "536   1930-07-19            SA1  North_America  1930     1    -1            3\n",
      "542   1930-08-01            SA1         Europe  1930     1    -1            1\n",
      "630   1934-05-27            SA1         Europe  1934    -1     1            1\n",
      "632   1934-05-27            SA1         Europe  1934    -1     1            2\n",
      "...          ...            ...            ...   ...   ...   ...          ...\n",
      "8455  2018-11-20         Europe            SA1  2018     1    -1            1\n",
      "8482  2019-03-26         Africa            SA1  2019    -1     1            1\n",
      "8522  2019-06-23           Asia            SA1  2019    -1     1            2\n",
      "8558  2019-09-06  North_America            SA1  2019    -1     1            1\n",
      "8570  2019-10-09         Europe            SA1  2019     0     0            0\n",
      "\n",
      "[795 rows x 7 columns]\n"
     ]
    }
   ],
   "source": [
    "#sample analysis on SA1\n",
    "use_SA1 = []\n",
    "for k in range (len(data)):\n",
    "    if data['home_team'][k] == 'SA1' and data['away_team'][k] not in ['SA1', 'SA2']:\n",
    "        use_SA1.append(k)\n",
    "for g in range (len(data)):\n",
    "    if data['away_team'][g] == 'SA1' and data['home_team'][g] not in ['SA1', 'SA2']:\n",
    "        use_SA1.append(g)\n",
    "data_sa1 = data.filter(items = use_SA1, axis = 0)\n",
    "data_sa1 = data_sa1.replace(to_replace = r'^AS.$', value = 'Asia', regex = True)\n",
    "data_sa1 = data_sa1.replace(to_replace = r'^EU.$', value = 'Europe', regex = True)\n",
    "data_sa1 = data_sa1.replace(to_replace = r'^NA.$', value = 'North_America', regex = True)\n",
    "data_sa1 = data_sa1.replace(to_replace = r'^AF.$', value = 'Africa', regex = True)\n",
    "print(data_sa1)"
   ]
  },
  {
   "cell_type": "code",
   "execution_count": 4,
   "id": "9924216e",
   "metadata": {},
   "outputs": [
    {
     "name": "stdout",
     "output_type": "stream",
     "text": [
      "    south_america_tier1       opponent  match_status  goal_margin  year\n",
      "0                   SA1         Europe             1            1  1930\n",
      "1                   SA1  North_America             1            3  1930\n",
      "2                   SA1         Europe             1            1  1930\n",
      "3                   SA1         Europe            -1            1  1934\n",
      "4                   SA1         Europe            -1            2  1934\n",
      "..                  ...            ...           ...          ...   ...\n",
      "790                 SA1         Europe            -1            1  2018\n",
      "791                 SA1         Africa             1            1  2019\n",
      "792                 SA1           Asia             1            2  2019\n",
      "793                 SA1  North_America             1            1  2019\n",
      "794                 SA1         Europe             0            0  2019\n",
      "\n",
      "[795 rows x 5 columns]\n"
     ]
    }
   ],
   "source": [
    "sa = []\n",
    "opponent = []\n",
    "match_status = []\n",
    "for x in range (len(data_sa1)):\n",
    "    sa.append('SA1')\n",
    "    if np.array(data_sa1['home_team'])[x] == 'SA1':\n",
    "        opponent.append(np.array(data_sa1['away_team'])[x])\n",
    "        match_status.append(np.array(data_sa1['home'])[x])\n",
    "    else:\n",
    "        opponent.append(np.array(data_sa1['home_team'])[x])\n",
    "        match_status.append(np.array(data_sa1['away'])[x])\n",
    "        \n",
    "sa1 = pd.DataFrame(data = {'south_america_tier1' : sa, 'opponent' : opponent, 'match_status' : match_status, 'goal_margin' : np.array(data_sa1['goal_margin']), 'year' : np.array(data_sa1['year'])})\n",
    "\n",
    "print(sa1)"
   ]
  },
  {
   "cell_type": "code",
   "execution_count": 5,
   "id": "059265d8",
   "metadata": {},
   "outputs": [
    {
     "name": "stdout",
     "output_type": "stream",
     "text": [
      "795\n"
     ]
    }
   ],
   "source": [
    "#making sub-data-frame wrt opponent's region\n",
    "sa1_asia = []\n",
    "sa1_europe =[]\n",
    "sa1_north_america =[]\n",
    "sa1_africa = []\n",
    "\n",
    "for y in range (len(sa1)):\n",
    "    if opponent[y] == 'Asia':\n",
    "        sa1_asia.append(y)\n",
    "    elif opponent[y] == 'North_America':\n",
    "        sa1_north_america.append(y)\n",
    "    elif opponent[y] == 'Europe':\n",
    "        sa1_europe.append(y)\n",
    "    if opponent[y] == 'Africa':\n",
    "        sa1_africa.append(y)\n",
    "#verifying\n",
    "print(len(sa1_africa) + len(sa1_asia) + len(sa1_europe) + len(sa1_north_america) )"
   ]
  },
  {
   "cell_type": "code",
   "execution_count": 6,
   "id": "fa37c4ca",
   "metadata": {},
   "outputs": [],
   "source": [
    "#sa1_vs_asia \n",
    "sa1_vs_asia = sa1.filter(items = sa1_asia, axis = 0)\n",
    "\n",
    "#sa1_vs_europe \n",
    "sa1_vs_europe = sa1.filter(items = sa1_europe, axis = 0)\n",
    "\n",
    "#sa1_vs_north_america \n",
    "sa1_vs_north_america = sa1.filter(items = sa1_north_america, axis = 0)\n",
    "\n",
    "#sa1_vs_africa \n",
    "sa1_vs_africa = sa1.filter(items = sa1_africa, axis = 0)\n",
    "\n",
    "sa1_vs_asia.to_excel(\"Sa_Tier1_vs_Asia.xlsx\", index = False)\n",
    "sa1_vs_europe.to_excel(\"Sa_Tier1_vs_Europe.xlsx\", index = False)\n",
    "sa1_vs_north_america.to_excel(\"Sa_Tier1_vs_North_America.xlsx\", index = False)\n",
    "sa1_vs_africa.to_excel(\"Sa_Tier1_vs_Africa.xlsx\", index = False)"
   ]
  },
  {
   "cell_type": "code",
   "execution_count": 7,
   "id": "b6eea2f5",
   "metadata": {},
   "outputs": [
    {
     "name": "stdout",
     "output_type": "stream",
     "text": [
      "    south_america_tier1 opponent  match_status  goal_margin  year\n",
      "93                  SA1     Asia             0            0  1977\n",
      "153                 SA1     Asia             0            0  1988\n",
      "154                 SA1     Asia             1            3  1988\n",
      "155                 SA1     Asia             1            2  1988\n",
      "158                 SA1     Asia             1            1  1989\n",
      "..                  ...      ...           ...          ...   ...\n",
      "777                 SA1     Asia             1            3  2018\n",
      "782                 SA1     Asia             1            2  2018\n",
      "788                 SA1     Asia             1            2  2018\n",
      "789                 SA1     Asia            -1            1  2018\n",
      "792                 SA1     Asia             1            2  2019\n",
      "\n",
      "[82 rows x 5 columns]\n"
     ]
    },
    {
     "data": {
      "image/png": "[encoded data removed]",
      "text/plain": [
       "<Figure size 432x288 with 1 Axes>"
      ]
     },
     "metadata": {
      "needs_background": "light"
     },
     "output_type": "display_data"
    },
    {
     "data": {
      "text/plain": [
       "Text(0.5, 1.0, 'Histogram of match_status')"
      ]
     },
     "execution_count": 7,
     "metadata": {},
     "output_type": "execute_result"
    },
    {
     "data": {
      "image/png": "[encoded data removed]",
      "text/plain": [
       "<Figure size 432x288 with 1 Axes>"
      ]
     },
     "metadata": {
      "needs_background": "light"
     },
     "output_type": "display_data"
    }
   ],
   "source": [
    "#checking\n",
    "print(sa1_vs_asia)\n",
    "\n",
    "#plot sa1_vs_africa\n",
    "plt.plot(sa1_vs_africa['year'], sa1_vs_africa['match_status'], 'o-', ms = 2.5, color = 'green', linestyle = '')\n",
    "plt.xlabel('YEAR')\n",
    "plt.ylabel('MATCH STATUS')\n",
    "plt.title('Plot of match_status wrt years')\n",
    "plt.grid(True)\n",
    "plt.show()\n",
    "\n",
    "plt.hist(sa1_vs_africa['match_status'], color = 'blue')\n",
    "plt.title('Histogram of match_status')"
   ]
  },
  {
   "cell_type": "code",
   "execution_count": null,
   "id": "9117206a",
   "metadata": {},
   "outputs": [],
   "source": []
  },
  {
   "cell_type": "code",
   "execution_count": null,
   "id": "7e60cfc9",
   "metadata": {},
   "outputs": [],
   "source": []
  },
  {
   "cell_type": "code",
   "execution_count": null,
   "id": "b3377576",
   "metadata": {},
   "outputs": [],
   "source": []
  }
 ],
 "metadata": {
  "kernelspec": {
   "display_name": "Python 3",
   "language": "python",
   "name": "python3"
  },
  "language_info": {
   "codemirror_mode": {
    "name": "ipython",
    "version": 3
   },
   "file_extension": ".py",
   "mimetype": "text/x-python",
   "name": "python",
   "nbconvert_exporter": "python",
   "pygments_lexer": "ipython3",
   "version": "3.8.8"
  }
 },
 "nbformat": 4,
 "nbformat_minor": 5
}
