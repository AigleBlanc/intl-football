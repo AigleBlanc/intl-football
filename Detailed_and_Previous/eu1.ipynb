{
 "cells": [
  {
   "cell_type": "code",
   "execution_count": 1,
   "id": "fa58f9c1",
   "metadata": {},
   "outputs": [],
   "source": [
    "import pandas as pd\n",
    "import numpy as np\n",
    "import matplotlib.pyplot as plt "
   ]
  },
  {
   "cell_type": "code",
   "execution_count": 2,
   "id": "cfed00bd",
   "metadata": {},
   "outputs": [
    {
     "name": "stdout",
     "output_type": "stream",
     "text": [
      "            date home_team away_team  year  home  away  goal_margin\n",
      "0     1879-01-18       EU1       EU3  1879     1    -1            1\n",
      "1     1880-03-15       EU3       EU1  1880    -1     1            1\n",
      "2     1881-02-26       EU1       EU3  1881    -1     1            1\n",
      "3     1882-03-13       EU3       EU1  1882     1    -1            2\n",
      "4     1883-02-03       EU1       EU3  1883     1    -1            5\n",
      "...          ...       ...       ...   ...   ...   ...          ...\n",
      "8760  2021-07-20       NA2       AS1  2021    -1     1            2\n",
      "8761  2021-07-24       NA1       NA2  2021     1    -1            3\n",
      "8762  2021-07-24       AS1       NA2  2021     1    -1            1\n",
      "8763  2021-07-25       NA1       NA1  2021    -1     1            2\n",
      "8764  2021-07-29       NA1       NA1  2021     1    -1            1\n",
      "\n",
      "[8765 rows x 7 columns]\n"
     ]
    }
   ],
   "source": [
    "data = pd.read_excel('Cleaned_results.xlsx')\n",
    "data = pd.DataFrame(data)\n",
    "\n",
    "print(data)"
   ]
  },
  {
   "cell_type": "code",
   "execution_count": 3,
   "id": "5dcc3c64",
   "metadata": {},
   "outputs": [
    {
     "name": "stdout",
     "output_type": "stream",
     "text": [
      "            date      home_team      away_team  year  home  away  goal_margin\n",
      "466   1928-04-01            EU1  South_America  1928     0     0            0\n",
      "532   1930-07-13            EU1  North_America  1930     1    -1            3\n",
      "538   1930-07-20            EU1  South_America  1930    -1     1            1\n",
      "1129  1950-07-02            EU1  South_America  1950     1    -1            2\n",
      "1154  1951-05-09            EU1  South_America  1951     1    -1            1\n",
      "...          ...            ...            ...   ...   ...   ...          ...\n",
      "8358  2018-06-18         Africa            EU1  2018    -1     1            1\n",
      "8373  2018-06-25           Asia            EU1  2018     0     0            0\n",
      "8383  2018-06-30  South_America            EU1  2018     1    -1            1\n",
      "8388  2018-07-06  South_America            EU1  2018    -1     1            2\n",
      "8389  2018-07-06  South_America            EU1  2018    -1     1            1\n",
      "\n",
      "[424 rows x 7 columns]\n"
     ]
    }
   ],
   "source": [
    "#sample analysis on EU1\n",
    "use_EU1 = []\n",
    "for k in range (len(data)):\n",
    "    if data['home_team'][k] == 'EU1' and data['away_team'][k] not in ['EU1', 'EU2', 'EU3']:\n",
    "        use_EU1.append(k)\n",
    "for g in range (len(data)):\n",
    "    if data['away_team'][g] == 'EU1' and data['home_team'][g] not in ['EU1', 'EU2', 'EU3']:\n",
    "        use_EU1.append(g)\n",
    "data_eu1 = data.filter(items = use_EU1, axis = 0)\n",
    "data_eu1 = data_eu1.replace(to_replace = r'^AS.$', value = 'Asia', regex = True)\n",
    "data_eu1 = data_eu1.replace(to_replace = r'^SA.$', value = 'South_America', regex = True)\n",
    "data_eu1 = data_eu1.replace(to_replace = r'^NA.$', value = 'North_America', regex = True)\n",
    "data_eu1 = data_eu1.replace(to_replace = r'^AF.$', value = 'Africa', regex = True)\n",
    "print(data_eu1)"
   ]
  },
  {
   "cell_type": "code",
   "execution_count": 4,
   "id": "9924216e",
   "metadata": {},
   "outputs": [
    {
     "name": "stdout",
     "output_type": "stream",
     "text": [
      "    europe_tier1       opponent  match_status  goal_margin  year\n",
      "0            EU1  South_America             0            0  1928\n",
      "1            EU1  North_America             1            3  1930\n",
      "2            EU1  South_America            -1            1  1930\n",
      "3            EU1  South_America             1            2  1950\n",
      "4            EU1  South_America             1            1  1951\n",
      "..           ...            ...           ...          ...   ...\n",
      "419          EU1         Africa             1            1  2018\n",
      "420          EU1           Asia             0            0  2018\n",
      "421          EU1  South_America            -1            1  2018\n",
      "422          EU1  South_America             1            2  2018\n",
      "423          EU1  South_America             1            1  2018\n",
      "\n",
      "[424 rows x 5 columns]\n"
     ]
    }
   ],
   "source": [
    "eu = []\n",
    "opponent = []\n",
    "match_status = []\n",
    "for x in range (len(data_eu1)):\n",
    "    eu.append('EU1')\n",
    "    if np.array(data_eu1['home_team'])[x] == 'EU1':\n",
    "        opponent.append(np.array(data_eu1['away_team'])[x])\n",
    "        match_status.append(np.array(data_eu1['home'])[x])\n",
    "    else:\n",
    "        opponent.append(np.array(data_eu1['home_team'])[x])\n",
    "        match_status.append(np.array(data_eu1['away'])[x])\n",
    "        \n",
    "eu1 = pd.DataFrame(data = {'europe_tier1' : eu, 'opponent' : opponent, 'match_status' : match_status, 'goal_margin' : np.array(data_eu1['goal_margin']), 'year' : np.array(data_eu1['year'])})\n",
    "\n",
    "print(eu1)"
   ]
  },
  {
   "cell_type": "code",
   "execution_count": 5,
   "id": "059265d8",
   "metadata": {},
   "outputs": [
    {
     "name": "stdout",
     "output_type": "stream",
     "text": [
      "424\n"
     ]
    }
   ],
   "source": [
    "#making sub-data-frame wrt opponent's region\n",
    "eu1_asia = []\n",
    "eu1_north_america =[]\n",
    "eu1_south_america =[]\n",
    "eu1_africa = []\n",
    "\n",
    "for y in range (len(eu1)):\n",
    "    if opponent[y] == 'Asia':\n",
    "        eu1_asia.append(y)\n",
    "    elif opponent[y] == 'North_America':\n",
    "        eu1_north_america.append(y)\n",
    "    elif opponent[y] == 'South_America':\n",
    "        eu1_south_america.append(y)\n",
    "    if opponent[y] == 'Africa':\n",
    "        eu1_africa.append(y)\n",
    "#verifying\n",
    "print(len(eu1_africa) + len(eu1_asia) + len(eu1_south_america) + len(eu1_north_america) )"
   ]
  },
  {
   "cell_type": "code",
   "execution_count": 6,
   "id": "fa37c4ca",
   "metadata": {},
   "outputs": [],
   "source": [
    "#eu1_vs_asia \n",
    "eu1_vs_asia = eu1.filter(items = eu1_asia, axis = 0)\n",
    "\n",
    "#eu1_vs_north_america \n",
    "eu1_vs_north_america = eu1.filter(items = eu1_north_america, axis = 0)\n",
    "\n",
    "#eu1_vs_south_america \n",
    "eu1_vs_south_america = eu1.filter(items = eu1_south_america, axis = 0)\n",
    "\n",
    "#eu1_vs_africa \n",
    "eu1_vs_africa = eu1.filter(items = eu1_africa, axis = 0)\n",
    "\n",
    "eu1_vs_asia.to_excel(\"Eu_Tier1_vs_Asia.xlsx\", index = False)\n",
    "eu1_vs_north_america.to_excel(\"Eu_Tier1_vs_North_America.xlsx\", index = False)\n",
    "eu1_vs_south_america.to_excel(\"Eu_Tier1_vs_South_America.xlsx\", index = False)\n",
    "eu1_vs_africa.to_excel(\"Eu_Tier1_vs_Africa.xlsx\", index = False)"
   ]
  },
  {
   "cell_type": "code",
   "execution_count": 7,
   "id": "b6eea2f5",
   "metadata": {},
   "outputs": [
    {
     "name": "stdout",
     "output_type": "stream",
     "text": [
      "    europe_tier1 opponent  match_status  goal_margin  year\n",
      "50           EU1     Asia             1            1  1978\n",
      "96           EU1     Asia            -1            1  1994\n",
      "99           EU1     Asia             1            1  1995\n",
      "111          EU1     Asia             0            0  1998\n",
      "117          EU1     Asia             1            4  1998\n",
      "127          EU1     Asia             0            0  2000\n",
      "130          EU1     Asia             1            5  2001\n",
      "147          EU1     Asia            -1            2  2003\n",
      "152          EU1     Asia             1            1  2003\n",
      "155          EU1     Asia             0            0  2004\n",
      "162          EU1     Asia             1            1  2006\n",
      "167          EU1     Asia             1            2  2006\n",
      "170          EU1     Asia             1            1  2006\n",
      "186          EU1     Asia             1            2  2009\n",
      "205          EU1     Asia            -1            1  2012\n",
      "210          EU1     Asia             1            1  2013\n",
      "212          EU1     Asia             1            6  2013\n",
      "215          EU1     Asia            -1            1  2013\n",
      "228          EU1     Asia             1            2  2014\n",
      "231          EU1     Asia             1            1  2016\n",
      "240          EU1     Asia             1            3  2017\n",
      "241          EU1     Asia             1            1  2017\n",
      "245          EU1     Asia             1            4  2018\n",
      "247          EU1     Asia             1            1  2018\n",
      "253          EU1     Asia             1            1  2018\n",
      "260          EU1     Asia             1            1  2018\n",
      "312          EU1     Asia             1            3  1972\n",
      "329          EU1     Asia             1            1  1980\n",
      "333          EU1     Asia             0            0  1983\n",
      "334          EU1     Asia             1            1  1983\n",
      "335          EU1     Asia             0            0  1983\n",
      "347          EU1     Asia             1            1  1986\n",
      "353          EU1     Asia             0            0  1988\n",
      "358          EU1     Asia             1            1  1991\n",
      "361          EU1     Asia             1            1  1994\n",
      "362          EU1     Asia             1            3  1994\n",
      "370          EU1     Asia             0            0  1999\n",
      "373          EU1     Asia            -1            1  2001\n",
      "374          EU1     Asia             1            1  2001\n",
      "376          EU1     Asia             0            0  2001\n",
      "377          EU1     Asia             0            0  2001\n",
      "379          EU1     Asia             0            0  2002\n",
      "392          EU1     Asia             1            3  2006\n",
      "396          EU1     Asia            -1            4  2009\n",
      "399          EU1     Asia             1            1  2010\n",
      "420          EU1     Asia             0            0  2018\n"
     ]
    },
    {
     "data": {
      "image/png": "[encoded data removed]",
      "text/plain": [
       "<Figure size 432x288 with 1 Axes>"
      ]
     },
     "metadata": {
      "needs_background": "light"
     },
     "output_type": "display_data"
    },
    {
     "data": {
      "text/plain": [
       "Text(0.5, 1.0, 'Histogram of match_status')"
      ]
     },
     "execution_count": 7,
     "metadata": {},
     "output_type": "execute_result"
    },
    {
     "data": {
      "image/png": "[encoded data removed]",
      "text/plain": [
       "<Figure size 432x288 with 1 Axes>"
      ]
     },
     "metadata": {
      "needs_background": "light"
     },
     "output_type": "display_data"
    }
   ],
   "source": [
    "#checking\n",
    "print(eu1_vs_asia)\n",
    "\n",
    "#plot eu1_vs_north_america\n",
    "plt.plot(eu1_vs_north_america['year'], eu1_vs_north_america['match_status'], 'o-', ms = 2.5, color = 'green', linestyle = '')\n",
    "plt.xlabel('YEAR')\n",
    "plt.ylabel('MATCH STATUS')\n",
    "plt.title('Plot of match_status wrt years')\n",
    "plt.grid(True)\n",
    "plt.show()\n",
    "\n",
    "plt.hist(eu1_vs_north_america['match_status'], color = 'blue')\n",
    "plt.title('Histogram of match_status')"
   ]
  },
  {
   "cell_type": "code",
   "execution_count": null,
   "id": "9117206a",
   "metadata": {},
   "outputs": [],
   "source": []
  },
  {
   "cell_type": "code",
   "execution_count": null,
   "id": "7e60cfc9",
   "metadata": {},
   "outputs": [],
   "source": []
  },
  {
   "cell_type": "code",
   "execution_count": null,
   "id": "b3377576",
   "metadata": {},
   "outputs": [],
   "source": []
  }
 ],
 "metadata": {
  "kernelspec": {
   "display_name": "Python 3 (ipykernel)",
   "language": "python",
   "name": "python3"
  },
  "language_info": {
   "codemirror_mode": {
    "name": "ipython",
    "version": 3
   },
   "file_extension": ".py",
   "mimetype": "text/x-python",
   "name": "python",
   "nbconvert_exporter": "python",
   "pygments_lexer": "ipython3",
   "version": "3.8.11"
  }
 },
 "nbformat": 4,
 "nbformat_minor": 5
}
