{
 "cells": [
  {
   "cell_type": "code",
   "execution_count": 1,
   "id": "fa58f9c1",
   "metadata": {},
   "outputs": [],
   "source": [
    "import pandas as pd\n",
    "import numpy as np\n",
    "import matplotlib.pyplot as plt "
   ]
  },
  {
   "cell_type": "code",
   "execution_count": 2,
   "id": "cfed00bd",
   "metadata": {},
   "outputs": [
    {
     "name": "stdout",
     "output_type": "stream",
     "text": [
      "            date home_team away_team  year  home  away  goal_margin\n",
      "0     1879-01-18       EU1       EU3  1879     1    -1            1\n",
      "1     1880-03-15       EU3       EU1  1880    -1     1            1\n",
      "2     1881-02-26       EU1       EU3  1881    -1     1            1\n",
      "3     1882-03-13       EU3       EU1  1882     1    -1            2\n",
      "4     1883-02-03       EU1       EU3  1883     1    -1            5\n",
      "...          ...       ...       ...   ...   ...   ...          ...\n",
      "8760  2021-07-20       NA2       AS1  2021    -1     1            2\n",
      "8761  2021-07-24       NA1       NA2  2021     1    -1            3\n",
      "8762  2021-07-24       AS1       NA2  2021     1    -1            1\n",
      "8763  2021-07-25       NA1       NA1  2021    -1     1            2\n",
      "8764  2021-07-29       NA1       NA1  2021     1    -1            1\n",
      "\n",
      "[8765 rows x 7 columns]\n"
     ]
    }
   ],
   "source": [
    "data = pd.read_excel('Cleaned_results.xlsx')\n",
    "data = pd.DataFrame(data)\n",
    "\n",
    "print(data)"
   ]
  },
  {
   "cell_type": "code",
   "execution_count": 3,
   "id": "5dcc3c64",
   "metadata": {},
   "outputs": [
    {
     "name": "stdout",
     "output_type": "stream",
     "text": [
      "            date home_team      away_team  year  home  away  goal_margin\n",
      "1130  1950-07-02       NA1         Europe  1950    -1     1            1\n",
      "1175  1952-03-23       NA1  South_America  1952    -1     1            2\n",
      "1191  1952-04-20       NA1  South_America  1952    -1     1            3\n",
      "1382  1956-03-04       NA1  South_America  1956    -1     1            2\n",
      "1387  1956-03-08       NA1  South_America  1956    -1     1            1\n",
      "...          ...       ...            ...   ...   ...   ...          ...\n",
      "8613  2020-10-07    Europe            NA1  2020    -1     1            1\n",
      "8660  2020-11-14      Asia            NA1  2020     1    -1            3\n",
      "8667  2020-11-17      Asia            NA1  2020    -1     1            2\n",
      "8668  2020-11-17      Asia            NA1  2020    -1     1            1\n",
      "8680  2021-03-27    Europe            NA1  2021     1    -1            1\n",
      "\n",
      "[583 rows x 7 columns]\n"
     ]
    }
   ],
   "source": [
    "#sample analysis on NA1\n",
    "use_NA1 = []\n",
    "for k in range (len(data)):\n",
    "    if data['home_team'][k] == 'NA1' and data['away_team'][k] not in ['NA1', 'NA2']:\n",
    "        use_NA1.append(k)\n",
    "for g in range (len(data)):\n",
    "    if data['away_team'][g] == 'NA1' and data['home_team'][g] not in ['NA1', 'NA2']:\n",
    "        use_NA1.append(g)\n",
    "data_na1 = data.filter(items = use_NA1, axis = 0)\n",
    "data_na1 = data_na1.replace(to_replace = r'^AS.$', value = 'Asia', regex = True)\n",
    "data_na1 = data_na1.replace(to_replace = r'^EU.$', value = 'Europe', regex = True)\n",
    "data_na1 = data_na1.replace(to_replace = r'^SA.$', value = 'South_America', regex = True)\n",
    "data_na1 = data_na1.replace(to_replace = r'^AF.$', value = 'Africa', regex = True)\n",
    "print(data_na1)"
   ]
  },
  {
   "cell_type": "code",
   "execution_count": 4,
   "id": "9924216e",
   "metadata": {},
   "outputs": [
    {
     "name": "stdout",
     "output_type": "stream",
     "text": [
      "    north_america_tier1       opponent  match_status  goal_margin  year\n",
      "0                   NA1         Europe            -1            1  1950\n",
      "1                   NA1  South_America            -1            2  1952\n",
      "2                   NA1  South_America            -1            3  1952\n",
      "3                   NA1  South_America            -1            2  1956\n",
      "4                   NA1  South_America            -1            1  1956\n",
      "..                  ...            ...           ...          ...   ...\n",
      "578                 NA1         Europe             1            1  2020\n",
      "579                 NA1           Asia            -1            3  2020\n",
      "580                 NA1           Asia             1            2  2020\n",
      "581                 NA1           Asia             1            1  2020\n",
      "582                 NA1         Europe            -1            1  2021\n",
      "\n",
      "[583 rows x 5 columns]\n"
     ]
    }
   ],
   "source": [
    "na = []\n",
    "opponent = []\n",
    "match_status = []\n",
    "for x in range (len(data_na1)):\n",
    "    na.append('NA1')\n",
    "    if np.array(data_na1['home_team'])[x] == 'NA1':\n",
    "        opponent.append(np.array(data_na1['away_team'])[x])\n",
    "        match_status.append(np.array(data_na1['home'])[x])\n",
    "    else:\n",
    "        opponent.append(np.array(data_na1['home_team'])[x])\n",
    "        match_status.append(np.array(data_na1['away'])[x])\n",
    "        \n",
    "na1 = pd.DataFrame(data = {'north_america_tier1' : na, 'opponent' : opponent, 'match_status' : match_status, 'goal_margin' : np.array(data_na1['goal_margin']), 'year' : np.array(data_na1['year'])})\n",
    "\n",
    "print(na1)"
   ]
  },
  {
   "cell_type": "code",
   "execution_count": 5,
   "id": "059265d8",
   "metadata": {},
   "outputs": [
    {
     "name": "stdout",
     "output_type": "stream",
     "text": [
      "583\n"
     ]
    }
   ],
   "source": [
    "#making sub-data-frame wrt opponent's region\n",
    "na1_asia = []\n",
    "na1_europe =[]\n",
    "na1_south_america =[]\n",
    "na1_africa = []\n",
    "\n",
    "for y in range (len(na1)):\n",
    "    if opponent[y] == 'Asia':\n",
    "        na1_asia.append(y)\n",
    "    elif opponent[y] == 'South_America':\n",
    "        na1_south_america.append(y)\n",
    "    elif opponent[y] == 'Europe':\n",
    "        na1_europe.append(y)\n",
    "    if opponent[y] == 'Africa':\n",
    "        na1_africa.append(y)\n",
    "#verifying\n",
    "print(len(na1_africa) + len(na1_asia) + len(na1_europe) + len(na1_south_america) )"
   ]
  },
  {
   "cell_type": "code",
   "execution_count": 6,
   "id": "fa37c4ca",
   "metadata": {},
   "outputs": [],
   "source": [
    "#na1_vs_asia \n",
    "na1_vs_asia = na1.filter(items = na1_asia, axis = 0)\n",
    "\n",
    "#na1_vs_europe \n",
    "na1_vs_europe = na1.filter(items = na1_europe, axis = 0)\n",
    "\n",
    "#na1_vs_south_america \n",
    "na1_vs_south_america = na1.filter(items = na1_south_america, axis = 0)\n",
    "\n",
    "#na1_vs_africa \n",
    "na1_vs_africa = na1.filter(items = na1_africa, axis = 0)\n",
    "\n",
    "na1_vs_asia.to_excel(\"Na_Tier1_vs_Asia.xlsx\", index = False)\n",
    "na1_vs_europe.to_excel(\"Na_Tier1_vs_Europe.xlsx\", index = False)\n",
    "na1_vs_south_america.to_excel(\"Na_Tier1_vs_South_America.xlsx\", index = False)\n",
    "na1_vs_africa.to_excel(\"Na_Tier1_vs_Africa.xlsx\", index = False)"
   ]
  },
  {
   "cell_type": "code",
   "execution_count": 7,
   "id": "b6eea2f5",
   "metadata": {},
   "outputs": [
    {
     "name": "stdout",
     "output_type": "stream",
     "text": [
      "    north_america_tier1 opponent  match_status  goal_margin  year\n",
      "25                  NA1     Asia             1            4  1968\n",
      "73                  NA1     Asia            -1            5  1985\n",
      "93                  NA1     Asia             1            1  1986\n",
      "111                 NA1     Asia             1            1  1993\n",
      "134                 NA1     Asia             1            1  1995\n",
      "..                  ...      ...           ...          ...   ...\n",
      "557                 NA1     Asia            -1            3  2017\n",
      "570                 NA1     Asia            -1            3  2018\n",
      "579                 NA1     Asia            -1            3  2020\n",
      "580                 NA1     Asia             1            2  2020\n",
      "581                 NA1     Asia             1            1  2020\n",
      "\n",
      "[62 rows x 5 columns]\n"
     ]
    },
    {
     "data": {
      "image/png": "[encoded data removed]",
      "text/plain": [
       "<Figure size 432x288 with 1 Axes>"
      ]
     },
     "metadata": {
      "needs_background": "light"
     },
     "output_type": "display_data"
    },
    {
     "data": {
      "text/plain": [
       "Text(0.5, 1.0, 'Histogram of match_status')"
      ]
     },
     "execution_count": 7,
     "metadata": {},
     "output_type": "execute_result"
    },
    {
     "data": {
      "image/png": "[encoded data removed]",
      "text/plain": [
       "<Figure size 432x288 with 1 Axes>"
      ]
     },
     "metadata": {
      "needs_background": "light"
     },
     "output_type": "display_data"
    }
   ],
   "source": [
    "#checking\n",
    "print(na1_vs_asia)\n",
    "\n",
    "#plot na1_vs_africa\n",
    "plt.plot(na1_vs_africa['year'], na1_vs_africa['match_status'], 'o-', ms = 2.5, color = 'green', linestyle = '')\n",
    "plt.xlabel('YEAR')\n",
    "plt.ylabel('MATCH STATUS')\n",
    "plt.title('Plot of match_status wrt years')\n",
    "plt.grid(True)\n",
    "plt.show()\n",
    "\n",
    "plt.hist(na1_vs_africa['match_status'], color = 'blue')\n",
    "plt.title('Histogram of match_status')"
   ]
  },
  {
   "cell_type": "code",
   "execution_count": null,
   "id": "9117206a",
   "metadata": {},
   "outputs": [],
   "source": []
  },
  {
   "cell_type": "code",
   "execution_count": null,
   "id": "7e60cfc9",
   "metadata": {},
   "outputs": [],
   "source": []
  },
  {
   "cell_type": "code",
   "execution_count": null,
   "id": "b3377576",
   "metadata": {},
   "outputs": [],
   "source": []
  }
 ],
 "metadata": {
  "kernelspec": {
   "display_name": "Python 3",
   "language": "python",
   "name": "python3"
  },
  "language_info": {
   "codemirror_mode": {
    "name": "ipython",
    "version": 3
   },
   "file_extension": ".py",
   "mimetype": "text/x-python",
   "name": "python",
   "nbconvert_exporter": "python",
   "pygments_lexer": "ipython3",
   "version": "3.8.8"
  }
 },
 "nbformat": 4,
 "nbformat_minor": 5
}
