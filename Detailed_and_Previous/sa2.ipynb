{
 "cells": [
  {
   "cell_type": "code",
   "execution_count": 1,
   "id": "fa58f9c1",
   "metadata": {},
   "outputs": [],
   "source": [
    "import pandas as pd\n",
    "import numpy as np\n",
    "import matplotlib.pyplot as plt "
   ]
  },
  {
   "cell_type": "code",
   "execution_count": 2,
   "id": "cfed00bd",
   "metadata": {},
   "outputs": [
    {
     "name": "stdout",
     "output_type": "stream",
     "text": [
      "            date home_team away_team  year  home  away  goal_margin\n",
      "0     1879-01-18       EU1       EU3  1879     1    -1            1\n",
      "1     1880-03-15       EU3       EU1  1880    -1     1            1\n",
      "2     1881-02-26       EU1       EU3  1881    -1     1            1\n",
      "3     1882-03-13       EU3       EU1  1882     1    -1            2\n",
      "4     1883-02-03       EU1       EU3  1883     1    -1            5\n",
      "...          ...       ...       ...   ...   ...   ...          ...\n",
      "8760  2021-07-20       NA2       AS1  2021    -1     1            2\n",
      "8761  2021-07-24       NA1       NA2  2021     1    -1            3\n",
      "8762  2021-07-24       AS1       NA2  2021     1    -1            1\n",
      "8763  2021-07-25       NA1       NA1  2021    -1     1            2\n",
      "8764  2021-07-29       NA1       NA1  2021     1    -1            1\n",
      "\n",
      "[8765 rows x 7 columns]\n"
     ]
    }
   ],
   "source": [
    "data = pd.read_excel('Cleaned_results.xlsx')\n",
    "data = pd.DataFrame(data)\n",
    "\n",
    "print(data)"
   ]
  },
  {
   "cell_type": "code",
   "execution_count": 3,
   "id": "5dcc3c64",
   "metadata": {},
   "outputs": [
    {
     "name": "stdout",
     "output_type": "stream",
     "text": [
      "            date      home_team      away_team  year  home  away  goal_margin\n",
      "534   1930-07-16            SA2  North_America  1930     1    -1            3\n",
      "537   1930-07-19            SA2         Europe  1930     1    -1            1\n",
      "1121  1950-06-25            SA2         Europe  1950    -1     1            2\n",
      "1124  1950-06-29            SA2         Europe  1950    -1     1            2\n",
      "1125  1950-06-29            SA2         Europe  1950     0     0            0\n",
      "...          ...            ...            ...   ...   ...   ...          ...\n",
      "8489  2019-06-02         Europe            SA2  2019     1    -1            2\n",
      "8500  2019-06-09  North_America            SA2  2019     1    -1            1\n",
      "8513  2019-06-17           Asia            SA2  2019    -1     1            4\n",
      "8564  2019-09-10  North_America            SA2  2019     1    -1            1\n",
      "8595  2019-11-19           Asia            SA2  2019     0     0            0\n",
      "\n",
      "[415 rows x 7 columns]\n"
     ]
    }
   ],
   "source": [
    "#sample analysis on SA2\n",
    "use_SA2 = []\n",
    "for k in range (len(data)):\n",
    "    if data['home_team'][k] == 'SA2' and data['away_team'][k] not in ['SA1', 'SA2', 'SA3']:\n",
    "        use_SA2.append(k)\n",
    "for g in range (len(data)):\n",
    "    if data['away_team'][g] == 'SA2' and data['home_team'][g] not in ['SA1', 'SA2', 'SA3']:\n",
    "        use_SA2.append(g)\n",
    "data_sa2 = data.filter(items = use_SA2, axis = 0)\n",
    "data_sa2 = data_sa2.replace(to_replace = r'^AS.$', value = 'Asia', regex = True)\n",
    "data_sa2 = data_sa2.replace(to_replace = r'^EU.$', value = 'Europe', regex = True)\n",
    "data_sa2 = data_sa2.replace(to_replace = r'^NA.$', value = 'North_America', regex = True)\n",
    "data_sa2 = data_sa2.replace(to_replace = r'^AF.$', value = 'Africa', regex = True)\n",
    "print(data_sa2)"
   ]
  },
  {
   "cell_type": "code",
   "execution_count": 4,
   "id": "9924216e",
   "metadata": {},
   "outputs": [
    {
     "name": "stdout",
     "output_type": "stream",
     "text": [
      "    south_america_tier2       opponent  match_status  goal_margin  year\n",
      "0                   SA2  North_America             1            3  1930\n",
      "1                   SA2         Europe             1            1  1930\n",
      "2                   SA2         Europe            -1            2  1950\n",
      "3                   SA2         Europe            -1            2  1950\n",
      "4                   SA2         Europe             0            0  1950\n",
      "..                  ...            ...           ...          ...   ...\n",
      "410                 SA2         Europe            -1            2  2019\n",
      "411                 SA2  North_America            -1            1  2019\n",
      "412                 SA2           Asia             1            4  2019\n",
      "413                 SA2  North_America            -1            1  2019\n",
      "414                 SA2           Asia             0            0  2019\n",
      "\n",
      "[415 rows x 5 columns]\n"
     ]
    }
   ],
   "source": [
    "sa = []\n",
    "opponent = []\n",
    "match_status = []\n",
    "for x in range (len(data_sa2)):\n",
    "    sa.append('SA2')\n",
    "    if np.array(data_sa2['home_team'])[x] == 'SA2':\n",
    "        opponent.append(np.array(data_sa2['away_team'])[x])\n",
    "        match_status.append(np.array(data_sa2['home'])[x])\n",
    "    else:\n",
    "        opponent.append(np.array(data_sa2['home_team'])[x])\n",
    "        match_status.append(np.array(data_sa2['away'])[x])\n",
    "        \n",
    "sa2 = pd.DataFrame(data = {'south_america_tier2' : sa, 'opponent' : opponent, 'match_status' : match_status, 'goal_margin' : np.array(data_sa2['goal_margin']), 'year' : np.array(data_sa2['year'])})\n",
    "\n",
    "print(sa2)"
   ]
  },
  {
   "cell_type": "code",
   "execution_count": 5,
   "id": "059265d8",
   "metadata": {},
   "outputs": [
    {
     "name": "stdout",
     "output_type": "stream",
     "text": [
      "415\n"
     ]
    }
   ],
   "source": [
    "#making sub-data-frame wrt opponent's region\n",
    "sa2_asia = []\n",
    "sa2_europe =[]\n",
    "sa2_north_america =[]\n",
    "sa2_africa = []\n",
    "\n",
    "for y in range (len(sa2)):\n",
    "    if opponent[y] == 'Asia':\n",
    "        sa2_asia.append(y)\n",
    "    elif opponent[y] == 'North_America':\n",
    "        sa2_north_america.append(y)\n",
    "    elif opponent[y] == 'Europe':\n",
    "        sa2_europe.append(y)\n",
    "    if opponent[y] == 'Africa':\n",
    "        sa2_africa.append(y)\n",
    "#verifying\n",
    "print(len(sa2_africa) + len(sa2_asia) + len(sa2_europe) + len(sa2_north_america) )"
   ]
  },
  {
   "cell_type": "code",
   "execution_count": 6,
   "id": "fa37c4ca",
   "metadata": {},
   "outputs": [],
   "source": [
    "#sa2_vs_asia \n",
    "sa2_vs_asia = sa2.filter(items = sa2_asia, axis = 0)\n",
    "\n",
    "#sa1_vs_europe \n",
    "sa2_vs_europe = sa2.filter(items = sa2_europe, axis = 0)\n",
    "\n",
    "#sa2_vs_north_america \n",
    "sa2_vs_north_america = sa2.filter(items = sa2_north_america, axis = 0)\n",
    "\n",
    "#sa2_vs_africa \n",
    "sa2_vs_africa = sa2.filter(items = sa2_africa, axis = 0)\n",
    "\n",
    "sa2_vs_asia.to_excel(\"Sa_Tier2_vs_Asia.xlsx\", index = False)\n",
    "sa2_vs_europe.to_excel(\"Sa_Tier2_vs_Europe.xlsx\", index = False)\n",
    "sa2_vs_north_america.to_excel(\"Sa_Tier2_vs_North_America.xlsx\", index = False)\n",
    "sa2_vs_africa.to_excel(\"Sa_Tier2_vs_Africa.xlsx\", index = False)"
   ]
  },
  {
   "cell_type": "code",
   "execution_count": 7,
   "id": "b6eea2f5",
   "metadata": {},
   "outputs": [
    {
     "name": "stdout",
     "output_type": "stream",
     "text": [
      "    south_america_tier2 opponent  match_status  goal_margin  year\n",
      "25                  SA2     Asia             0            0  1972\n",
      "26                  SA2     Asia             1            1  1972\n",
      "33                  SA2     Asia             1            1  1986\n",
      "38                  SA2     Asia             1            1  1994\n",
      "57                  SA2     Asia             0            0  1999\n",
      "59                  SA2     Asia             1            4  1999\n",
      "60                  SA2     Asia             0            0  1999\n",
      "63                  SA2     Asia             1            1  2000\n",
      "101                 SA2     Asia            -1            2  2009\n",
      "107                 SA2     Asia             0            0  2010\n",
      "125                 SA2     Asia             1            6  2013\n",
      "129                 SA2     Asia             1            2  2014\n",
      "131                 SA2     Asia             0            0  2014\n",
      "132                 SA2     Asia            -1            2  2015\n",
      "143                 SA2     Asia             0            0  2017\n",
      "151                 SA2     Asia             0            0  2019\n",
      "152                 SA2     Asia             0            0  2019\n",
      "178                 SA2     Asia             0            0  1974\n",
      "187                 SA2     Asia             0            0  1986\n",
      "188                 SA2     Asia             1            3  1986\n",
      "189                 SA2     Asia             0            0  1986\n",
      "211                 SA2     Asia             1            2  1994\n",
      "215                 SA2     Asia            -1            3  1995\n",
      "218                 SA2     Asia             1            1  1995\n",
      "219                 SA2     Asia             0            0  1996\n",
      "220                 SA2     Asia             1            1  1996\n",
      "226                 SA2     Asia             0            0  1998\n",
      "227                 SA2     Asia             1            1  1998\n",
      "231                 SA2     Asia             0            0  1998\n",
      "244                 SA2     Asia             0            0  1999\n",
      "249                 SA2     Asia             0            0  2000\n",
      "250                 SA2     Asia             0            0  2000\n",
      "251                 SA2     Asia            -1            1  2000\n",
      "252                 SA2     Asia            -1            2  2000\n",
      "258                 SA2     Asia            -1            2  2001\n",
      "272                 SA2     Asia             0            0  2002\n",
      "284                 SA2     Asia             0            0  2003\n",
      "300                 SA2     Asia            -1            1  2006\n",
      "308                 SA2     Asia             0            0  2006\n",
      "321                 SA2     Asia             0            0  2008\n",
      "326                 SA2     Asia             0            0  2008\n",
      "328                 SA2     Asia             0            0  2008\n",
      "332                 SA2     Asia             1            1  2008\n",
      "337                 SA2     Asia            -1            4  2009\n",
      "346                 SA2     Asia            -1            1  2010\n",
      "349                 SA2     Asia            -1            1  2010\n",
      "350                 SA2     Asia             1            2  2010\n",
      "368                 SA2     Asia             1            1  2014\n",
      "398                 SA2     Asia            -1            2  2018\n",
      "399                 SA2     Asia             0            0  2018\n",
      "400                 SA2     Asia            -1            1  2018\n",
      "401                 SA2     Asia            -1            1  2018\n",
      "403                 SA2     Asia             0            0  2018\n",
      "404                 SA2     Asia             0            0  2018\n",
      "409                 SA2     Asia             1            1  2019\n",
      "412                 SA2     Asia             1            4  2019\n",
      "414                 SA2     Asia             0            0  2019\n"
     ]
    },
    {
     "data": {
      "image/png": "[encoded data removed]",
      "text/plain": [
       "<Figure size 432x288 with 1 Axes>"
      ]
     },
     "metadata": {
      "needs_background": "light"
     },
     "output_type": "display_data"
    },
    {
     "data": {
      "text/plain": [
       "Text(0.5, 1.0, 'Histogram of match_status')"
      ]
     },
     "execution_count": 7,
     "metadata": {},
     "output_type": "execute_result"
    },
    {
     "data": {
      "image/png": "[encoded data removed]",
      "text/plain": [
       "<Figure size 432x288 with 1 Axes>"
      ]
     },
     "metadata": {
      "needs_background": "light"
     },
     "output_type": "display_data"
    }
   ],
   "source": [
    "#checking\n",
    "print(sa2_vs_asia)\n",
    "\n",
    "#plot sa2_vs_africa\n",
    "plt.plot(sa2_vs_africa['year'], sa2_vs_africa['match_status'], 'o-', ms = 2.5, color = 'green', linestyle = '')\n",
    "plt.xlabel('YEAR')\n",
    "plt.ylabel('MATCH STATUS')\n",
    "plt.title('Plot of match_status wrt years')\n",
    "plt.grid(True)\n",
    "plt.show()\n",
    "\n",
    "plt.hist(sa2_vs_africa['match_status'], color = 'blue')\n",
    "plt.title('Histogram of match_status')"
   ]
  },
  {
   "cell_type": "code",
   "execution_count": null,
   "id": "9117206a",
   "metadata": {},
   "outputs": [],
   "source": []
  },
  {
   "cell_type": "code",
   "execution_count": null,
   "id": "7e60cfc9",
   "metadata": {},
   "outputs": [],
   "source": []
  },
  {
   "cell_type": "code",
   "execution_count": null,
   "id": "b3377576",
   "metadata": {},
   "outputs": [],
   "source": []
  }
 ],
 "metadata": {
  "kernelspec": {
   "display_name": "Python 3",
   "language": "python",
   "name": "python3"
  },
  "language_info": {
   "codemirror_mode": {
    "name": "ipython",
    "version": 3
   },
   "file_extension": ".py",
   "mimetype": "text/x-python",
   "name": "python",
   "nbconvert_exporter": "python",
   "pygments_lexer": "ipython3",
   "version": "3.8.8"
  }
 },
 "nbformat": 4,
 "nbformat_minor": 5
}
