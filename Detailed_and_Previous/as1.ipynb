{
 "cells": [
  {
   "cell_type": "code",
   "execution_count": 1,
   "id": "fa58f9c1",
   "metadata": {},
   "outputs": [],
   "source": [
    "import pandas as pd\n",
    "import numpy as np\n",
    "import matplotlib.pyplot as plt "
   ]
  },
  {
   "cell_type": "code",
   "execution_count": 2,
   "id": "cfed00bd",
   "metadata": {},
   "outputs": [
    {
     "name": "stdout",
     "output_type": "stream",
     "text": [
      "            date home_team away_team  year  home  away  goal_margin\n",
      "0     1879-01-18       EU1       EU3  1879     1    -1            1\n",
      "1     1880-03-15       EU3       EU1  1880    -1     1            1\n",
      "2     1881-02-26       EU1       EU3  1881    -1     1            1\n",
      "3     1882-03-13       EU3       EU1  1882     1    -1            2\n",
      "4     1883-02-03       EU1       EU3  1883     1    -1            5\n",
      "...          ...       ...       ...   ...   ...   ...          ...\n",
      "8760  2021-07-20       NA2       AS1  2021    -1     1            2\n",
      "8761  2021-07-24       NA1       NA2  2021     1    -1            3\n",
      "8762  2021-07-24       AS1       NA2  2021     1    -1            1\n",
      "8763  2021-07-25       NA1       NA1  2021    -1     1            2\n",
      "8764  2021-07-29       NA1       NA1  2021     1    -1            1\n",
      "\n",
      "[8765 rows x 7 columns]\n"
     ]
    }
   ],
   "source": [
    "data = pd.read_excel('Cleaned_results.xlsx')\n",
    "data = pd.DataFrame(data)\n",
    "\n",
    "print(data)"
   ]
  },
  {
   "cell_type": "code",
   "execution_count": 3,
   "id": "5dcc3c64",
   "metadata": {},
   "outputs": [
    {
     "name": "stdout",
     "output_type": "stream",
     "text": [
      "            date      home_team      away_team  year  home  away  goal_margin\n",
      "341   1924-06-07            AS1  North_America  1924     1    -1            1\n",
      "342   1924-06-14            AS1  North_America  1924    -1     1            1\n",
      "344   1924-06-23            AS1  North_America  1924     1    -1            3\n",
      "345   1924-06-28            AS1  North_America  1924     0     0            0\n",
      "347   1924-07-12            AS1  North_America  1924    -1     1            3\n",
      "...          ...            ...            ...   ...   ...   ...          ...\n",
      "8518  2019-06-20  South_America            AS1  2019     0     0            0\n",
      "8525  2019-06-24  South_America            AS1  2019     0     0            0\n",
      "8633  2020-10-12         Africa            AS1  2020     1    -1            4\n",
      "8653  2020-11-13  North_America            AS1  2020     0     0            0\n",
      "8760  2021-07-20  North_America            AS1  2021    -1     1            2\n",
      "\n",
      "[380 rows x 7 columns]\n"
     ]
    }
   ],
   "source": [
    "#sample analysis on AS1\n",
    "use_AS1 = []\n",
    "for k in range (len(data)):\n",
    "    if data['home_team'][k] == 'AS1' and data['away_team'][k] not in ['AS1', 'AS2']:\n",
    "        use_AS1.append(k)\n",
    "for g in range (len(data)):\n",
    "    if data['away_team'][g] == 'AS1' and data['home_team'][g] not in ['AS1', 'AS2']:\n",
    "        use_AS1.append(g)\n",
    "data_as1 = data.filter(items = use_AS1, axis = 0)\n",
    "data_as1 = data_as1.replace(to_replace = r'^NA.$', value = 'North_America', regex = True)\n",
    "data_as1 = data_as1.replace(to_replace = r'^EU.$', value = 'Europe', regex = True)\n",
    "data_as1 = data_as1.replace(to_replace = r'^SA.$', value = 'South_America', regex = True)\n",
    "data_as1 = data_as1.replace(to_replace = r'^AF.$', value = 'Africa', regex = True)\n",
    "print(data_as1)"
   ]
  },
  {
   "cell_type": "code",
   "execution_count": 4,
   "id": "9924216e",
   "metadata": {},
   "outputs": [
    {
     "name": "stdout",
     "output_type": "stream",
     "text": [
      "    Asia_tier1       opponent  match_status  goal_margin  year\n",
      "0          AS1  North_America             1            1  1924\n",
      "1          AS1  North_America            -1            1  1924\n",
      "2          AS1  North_America             1            3  1924\n",
      "3          AS1  North_America             0            0  1924\n",
      "4          AS1  North_America            -1            3  1924\n",
      "..         ...            ...           ...          ...   ...\n",
      "375        AS1  South_America             0            0  2019\n",
      "376        AS1  South_America             0            0  2019\n",
      "377        AS1         Africa            -1            4  2020\n",
      "378        AS1  North_America             0            0  2020\n",
      "379        AS1  North_America             1            2  2021\n",
      "\n",
      "[380 rows x 5 columns]\n"
     ]
    }
   ],
   "source": [
    "asia = []\n",
    "opponent = []\n",
    "match_status = []\n",
    "for x in range (len(data_as1)):\n",
    "    asia.append('AS1')\n",
    "    if np.array(data_as1['home_team'])[x] == 'AS1':\n",
    "        opponent.append(np.array(data_as1['away_team'])[x])\n",
    "        match_status.append(np.array(data_as1['home'])[x])\n",
    "    else:\n",
    "        opponent.append(np.array(data_as1['home_team'])[x])\n",
    "        match_status.append(np.array(data_as1['away'])[x])\n",
    "        \n",
    "as1 = pd.DataFrame(data = {'Asia_tier1' : asia, 'opponent' : opponent, 'match_status' : match_status, 'goal_margin' : np.array(data_as1['goal_margin']), 'year' : np.array(data_as1['year'])})\n",
    "\n",
    "print(as1)"
   ]
  },
  {
   "cell_type": "code",
   "execution_count": 5,
   "id": "059265d8",
   "metadata": {},
   "outputs": [
    {
     "name": "stdout",
     "output_type": "stream",
     "text": [
      "380\n"
     ]
    }
   ],
   "source": [
    "#making sub-data-frame wrt opponent's region\n",
    "as1_north_america = []\n",
    "as1_europe =[]\n",
    "as1_south_america =[]\n",
    "as1_africa = []\n",
    "\n",
    "for y in range (len(as1)):\n",
    "    if opponent[y] == 'North_America':\n",
    "        as1_north_america.append(y)\n",
    "    elif opponent[y] == 'South_America':\n",
    "        as1_south_america.append(y)\n",
    "    elif opponent[y] == 'Europe':\n",
    "        as1_europe.append(y)\n",
    "    if opponent[y] == 'Africa':\n",
    "        as1_africa.append(y)\n",
    "#verifying\n",
    "print(len(as1_africa) + len(as1_north_america) + len(as1_europe) + len(as1_south_america) )"
   ]
  },
  {
   "cell_type": "code",
   "execution_count": 6,
   "id": "fa37c4ca",
   "metadata": {},
   "outputs": [],
   "source": [
    "#as1_vs_north_america \n",
    "as1_vs_north_america = as1.filter(items = as1_north_america, axis = 0)\n",
    "\n",
    "#as1_vs_europe \n",
    "as1_vs_europe = as1.filter(items = as1_europe, axis = 0)\n",
    "\n",
    "#as1_vs_south_america \n",
    "as1_vs_south_america = as1.filter(items = as1_south_america, axis = 0)\n",
    "\n",
    "#as1_vs_africa \n",
    "as1_vs_africa = as1.filter(items = as1_africa, axis = 0)\n",
    "\n",
    "as1_vs_north_america.to_excel(\"As_Tier1_vs_North_America.xlsx\", index = False)\n",
    "as1_vs_europe.to_excel(\"As_Tier1_vs_Europe.xlsx\", index = False)\n",
    "as1_vs_south_america.to_excel(\"As_Tier1_vs_South_America.xlsx\", index = False)\n",
    "as1_vs_africa.to_excel(\"As_Tier1_vs_Africa.xlsx\", index = False)"
   ]
  },
  {
   "cell_type": "code",
   "execution_count": 7,
   "id": "b6eea2f5",
   "metadata": {},
   "outputs": [
    {
     "name": "stdout",
     "output_type": "stream",
     "text": [
      "    Asia_tier1 opponent  match_status  goal_margin  year\n",
      "6          AS1   Africa            -1            1  1947\n",
      "7          AS1   Africa            -1            2  1947\n",
      "8          AS1   Africa             0            0  1947\n",
      "9          AS1   Africa             1            4  1947\n",
      "10         AS1   Africa            -1            1  1947\n",
      "..         ...      ...           ...          ...   ...\n",
      "360        AS1   Africa             0            0  2017\n",
      "364        AS1   Africa            -1            1  2018\n",
      "365        AS1   Africa             1            1  2018\n",
      "368        AS1   Africa             1            1  2018\n",
      "377        AS1   Africa            -1            4  2020\n",
      "\n",
      "[105 rows x 5 columns]\n"
     ]
    },
    {
     "data": {
      "image/png": "[encoded data removed]",
      "text/plain": [
       "<Figure size 432x288 with 1 Axes>"
      ]
     },
     "metadata": {
      "needs_background": "light"
     },
     "output_type": "display_data"
    },
    {
     "data": {
      "text/plain": [
       "Text(0.5, 1.0, 'Histogram of match_status')"
      ]
     },
     "execution_count": 7,
     "metadata": {},
     "output_type": "execute_result"
    },
    {
     "data": {
      "image/png": "[encoded data removed]",
      "text/plain": [
       "<Figure size 432x288 with 1 Axes>"
      ]
     },
     "metadata": {
      "needs_background": "light"
     },
     "output_type": "display_data"
    }
   ],
   "source": [
    "#checking\n",
    "print(as1_vs_africa)\n",
    "\n",
    "#plot as1_vs_africa\n",
    "plt.plot(as1_vs_africa['year'], as1_vs_africa['match_status'], 'o-', ms = 2.5, color = 'green', linestyle = '')\n",
    "plt.xlabel('YEAR')\n",
    "plt.ylabel('MATCH STATUS')\n",
    "plt.title('Plot of match_status wrt years')\n",
    "plt.grid(True)\n",
    "plt.show()\n",
    "\n",
    "plt.hist(as1_vs_africa['match_status'], color = 'blue')\n",
    "plt.title('Histogram of match_status')"
   ]
  },
  {
   "cell_type": "code",
   "execution_count": null,
   "id": "9117206a",
   "metadata": {},
   "outputs": [],
   "source": []
  },
  {
   "cell_type": "code",
   "execution_count": null,
   "id": "7e60cfc9",
   "metadata": {},
   "outputs": [],
   "source": []
  },
  {
   "cell_type": "code",
   "execution_count": null,
   "id": "b3377576",
   "metadata": {},
   "outputs": [],
   "source": []
  }
 ],
 "metadata": {
  "kernelspec": {
   "display_name": "Python 3",
   "language": "python",
   "name": "python3"
  },
  "language_info": {
   "codemirror_mode": {
    "name": "ipython",
    "version": 3
   },
   "file_extension": ".py",
   "mimetype": "text/x-python",
   "name": "python",
   "nbconvert_exporter": "python",
   "pygments_lexer": "ipython3",
   "version": "3.8.8"
  }
 },
 "nbformat": 4,
 "nbformat_minor": 5
}
