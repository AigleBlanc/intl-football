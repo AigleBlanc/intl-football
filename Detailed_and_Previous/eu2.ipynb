{
 "cells": [
  {
   "cell_type": "code",
   "execution_count": 1,
   "id": "4950b55b",
   "metadata": {},
   "outputs": [],
   "source": [
    "import pandas as pd\n",
    "import numpy as np\n",
    "import matplotlib.pyplot as plt "
   ]
  },
  {
   "cell_type": "code",
   "execution_count": 2,
   "id": "e22b486b",
   "metadata": {},
   "outputs": [
    {
     "name": "stdout",
     "output_type": "stream",
     "text": [
      "            date home_team away_team  year  home  away  goal_margin\n",
      "0     1879-01-18       EU1       EU3  1879     1    -1            1\n",
      "1     1880-03-15       EU3       EU1  1880    -1     1            1\n",
      "2     1881-02-26       EU1       EU3  1881    -1     1            1\n",
      "3     1882-03-13       EU3       EU1  1882     1    -1            2\n",
      "4     1883-02-03       EU1       EU3  1883     1    -1            5\n",
      "...          ...       ...       ...   ...   ...   ...          ...\n",
      "8760  2021-07-20       NA2       AS1  2021    -1     1            2\n",
      "8761  2021-07-24       NA1       NA2  2021     1    -1            3\n",
      "8762  2021-07-24       AS1       NA2  2021     1    -1            1\n",
      "8763  2021-07-25       NA1       NA1  2021    -1     1            2\n",
      "8764  2021-07-29       NA1       NA1  2021     1    -1            1\n",
      "\n",
      "[8765 rows x 7 columns]\n"
     ]
    }
   ],
   "source": [
    "data = pd.read_excel('Cleaned_results.xlsx')\n",
    "data = pd.DataFrame(data)\n",
    "\n",
    "print(data)"
   ]
  },
  {
   "cell_type": "code",
   "execution_count": 3,
   "id": "32282612",
   "metadata": {},
   "outputs": [
    {
     "name": "stdout",
     "output_type": "stream",
     "text": [
      "            date      home_team      away_team  year  home  away  goal_margin\n",
      "358   1924-11-02            EU2         Africa  1924     1    -1            1\n",
      "476   1928-06-14            EU2         Africa  1928    -1     1            1\n",
      "1133  1950-07-09            EU2  South_America  1950     0     0            0\n",
      "1202  1952-08-10            EU2         Africa  1952     0     0            0\n",
      "1210  1952-12-07            EU2  South_America  1952    -1     1            1\n",
      "...          ...            ...            ...   ...   ...   ...          ...\n",
      "8206  2017-07-02  South_America            EU2  2017    -1     1            1\n",
      "8346  2018-06-09         Africa            EU2  2018    -1     1            1\n",
      "8353  2018-06-16  South_America            EU2  2018    -1     1            1\n",
      "8356  2018-06-17  South_America            EU2  2018     0     0            0\n",
      "8362  2018-06-20           Asia            EU2  2018    -1     1            1\n",
      "\n",
      "[399 rows x 7 columns]\n"
     ]
    }
   ],
   "source": [
    "#sample analysis on EU2\n",
    "use_EU2 = []\n",
    "for k in range (len(data)):\n",
    "    if data['home_team'][k] == 'EU2' and data['away_team'][k] not in ['EU1', 'EU2', 'EU3']:\n",
    "        use_EU2.append(k)\n",
    "for g in range (len(data)):\n",
    "    if data['away_team'][g] == 'EU2' and data['home_team'][g] not in ['EU1', 'EU2', 'EU3']:\n",
    "        use_EU2.append(g)\n",
    "data_eu2 = data.filter(items = use_EU2, axis = 0)\n",
    "data_eu2 = data_eu2.replace(to_replace = r'^AS.$', value = 'Asia', regex = True)\n",
    "data_eu2 = data_eu2.replace(to_replace = r'^SA.$', value = 'South_America', regex = True)\n",
    "data_eu2 = data_eu2.replace(to_replace = r'^NA.$', value = 'North_America', regex = True)\n",
    "data_eu2 = data_eu2.replace(to_replace = r'^AF.$', value = 'Africa', regex = True)\n",
    "print(data_eu2)"
   ]
  },
  {
   "cell_type": "code",
   "execution_count": 4,
   "id": "0b852200",
   "metadata": {},
   "outputs": [
    {
     "name": "stdout",
     "output_type": "stream",
     "text": [
      "    europe_tier2       opponent  match_status  goal_margin  year\n",
      "0            EU2         Africa             1            1  1924\n",
      "1            EU2         Africa            -1            1  1928\n",
      "2            EU2  South_America             0            0  1950\n",
      "3            EU2         Africa             0            0  1952\n",
      "4            EU2  South_America            -1            1  1952\n",
      "..           ...            ...           ...          ...   ...\n",
      "394          EU2  South_America             1            1  2017\n",
      "395          EU2         Africa             1            1  2018\n",
      "396          EU2  South_America             1            1  2018\n",
      "397          EU2  South_America             0            0  2018\n",
      "398          EU2           Asia             1            1  2018\n",
      "\n",
      "[399 rows x 5 columns]\n"
     ]
    }
   ],
   "source": [
    "eu = []\n",
    "opponent = []\n",
    "match_status = []\n",
    "for x in range (len(data_eu2)):\n",
    "    eu.append('EU2')\n",
    "    if np.array(data_eu2['home_team'])[x] == 'EU2':\n",
    "        opponent.append(np.array(data_eu2['away_team'])[x])\n",
    "        match_status.append(np.array(data_eu2['home'])[x])\n",
    "    else:\n",
    "        opponent.append(np.array(data_eu2['home_team'])[x])\n",
    "        match_status.append(np.array(data_eu2['away'])[x])\n",
    "        \n",
    "eu2 = pd.DataFrame(data = {'europe_tier2' : eu, 'opponent' : opponent, 'match_status' : match_status, 'goal_margin' : np.array(data_eu2['goal_margin']), 'year' : np.array(data_eu2['year'])})\n",
    "\n",
    "print(eu2)"
   ]
  },
  {
   "cell_type": "code",
   "execution_count": 5,
   "id": "ff1b57e7",
   "metadata": {},
   "outputs": [
    {
     "name": "stdout",
     "output_type": "stream",
     "text": [
      "399\n"
     ]
    }
   ],
   "source": [
    "#making sub-data-frame wrt opponent's region\n",
    "eu2_asia = []\n",
    "eu2_north_america =[]\n",
    "eu2_south_america =[]\n",
    "eu2_africa = []\n",
    "\n",
    "for y in range (len(eu2)):\n",
    "    if opponent[y] == 'Asia':\n",
    "        eu2_asia.append(y)\n",
    "    elif opponent[y] == 'North_America':\n",
    "        eu2_north_america.append(y)\n",
    "    elif opponent[y] == 'South_America':\n",
    "        eu2_south_america.append(y)\n",
    "    if opponent[y] == 'Africa':\n",
    "        eu2_africa.append(y)\n",
    "#verifying\n",
    "print(len(eu2_africa) + len(eu2_asia) + len(eu2_south_america) + len(eu2_north_america) )"
   ]
  },
  {
   "cell_type": "code",
   "execution_count": 6,
   "id": "cd0cf17e",
   "metadata": {},
   "outputs": [],
   "source": [
    "#eu2_vs_asia \n",
    "eu2_vs_asia = eu2.filter(items = eu2_asia, axis = 0)\n",
    "\n",
    "#eu2_vs_north_america \n",
    "eu2_vs_north_america = eu2.filter(items = eu2_north_america, axis = 0)\n",
    "\n",
    "#eu2_vs_south_america \n",
    "eu2_vs_south_america = eu2.filter(items = eu2_south_america, axis = 0)\n",
    "\n",
    "#eu1_vs_africa \n",
    "eu2_vs_africa = eu2.filter(items = eu2_africa, axis = 0)\n",
    "\n",
    "eu2_vs_asia.to_excel(\"Eu_Tier2_vs_Asia.xlsx\", index = False)\n",
    "eu2_vs_north_america.to_excel(\"Eu_Tier2_vs_North_America.xlsx\", index = False)\n",
    "eu2_vs_south_america.to_excel(\"Eu_Tier2_vs_South_America.xlsx\", index = False)\n",
    "eu2_vs_africa.to_excel(\"Eu_Tier2_vs_Africa.xlsx\", index = False)"
   ]
  },
  {
   "cell_type": "code",
   "execution_count": 7,
   "id": "aa9b4492",
   "metadata": {},
   "outputs": [
    {
     "name": "stdout",
     "output_type": "stream",
     "text": [
      "    europe_tier2 opponent  match_status  goal_margin  year\n",
      "27           EU2     Asia             1            1  1971\n",
      "36           EU2     Asia             1            3  1974\n",
      "65           EU2     Asia             1            4  1990\n",
      "76           EU2     Asia             1            1  1994\n",
      "78           EU2     Asia             1            1  1994\n",
      "94           EU2     Asia             1            2  1998\n",
      "104          EU2     Asia             0            0  1999\n",
      "107          EU2     Asia             1            1  2001\n",
      "113          EU2     Asia             1            8  2002\n",
      "126          EU2     Asia             1            1  2005\n",
      "139          EU2     Asia             0            0  2006\n",
      "142          EU2     Asia             0            0  2006\n",
      "154          EU2     Asia            -1            1  2007\n",
      "157          EU2     Asia            -1            1  2008\n",
      "159          EU2     Asia             1            1  2009\n",
      "162          EU2     Asia             1            3  2009\n",
      "170          EU2     Asia             1            1  2010\n",
      "173          EU2     Asia             1            4  2010\n",
      "174          EU2     Asia             1            1  2010\n",
      "176          EU2     Asia            -1            2  2010\n",
      "179          EU2     Asia             0            0  2010\n",
      "180          EU2     Asia            -1            1  2011\n",
      "186          EU2     Asia             1            2  2012\n",
      "188          EU2     Asia             1            5  2012\n",
      "194          EU2     Asia             0            0  2013\n",
      "213          EU2     Asia             0            0  2015\n",
      "225          EU2     Asia             1            1  2018\n",
      "226          EU2     Asia             1            2  2018\n",
      "229          EU2     Asia             0            0  2018\n",
      "234          EU2     Asia            -1            1  2018\n",
      "279          EU2     Asia             1            3  1978\n",
      "309          EU2     Asia             0            0  1990\n",
      "322          EU2     Asia             1            2  1994\n",
      "329          EU2     Asia             1            2  1995\n",
      "332          EU2     Asia             1            3  1998\n",
      "334          EU2     Asia             1            1  1998\n",
      "342          EU2     Asia            -1            1  2000\n",
      "344          EU2     Asia             1            1  2002\n",
      "350          EU2     Asia             1            2  2004\n",
      "351          EU2     Asia             1            3  2004\n",
      "352          EU2     Asia             1            1  2005\n",
      "353          EU2     Asia             1            1  2006\n",
      "354          EU2     Asia             1            2  2007\n",
      "357          EU2     Asia             1            5  2009\n",
      "360          EU2     Asia             0            0  2009\n",
      "361          EU2     Asia            -1            1  2010\n",
      "386          EU2     Asia             1            1  2014\n",
      "387          EU2     Asia             1            3  2014\n",
      "393          EU2     Asia             1            1  2017\n",
      "398          EU2     Asia             1            1  2018\n"
     ]
    },
    {
     "data": {
      "image/png": "[encoded data removed]",
      "text/plain": [
       "<Figure size 432x288 with 1 Axes>"
      ]
     },
     "metadata": {
      "needs_background": "light"
     },
     "output_type": "display_data"
    },
    {
     "data": {
      "text/plain": [
       "Text(0.5, 1.0, 'Histogram of match_status')"
      ]
     },
     "execution_count": 7,
     "metadata": {},
     "output_type": "execute_result"
    },
    {
     "data": {
      "image/png": "[encoded data removed]",
      "text/plain": [
       "<Figure size 432x288 with 1 Axes>"
      ]
     },
     "metadata": {
      "needs_background": "light"
     },
     "output_type": "display_data"
    }
   ],
   "source": [
    "#checking\n",
    "print(eu2_vs_asia)\n",
    "\n",
    "#plot eu2_vs_south_america\n",
    "plt.plot(eu2_vs_south_america['year'], eu2_vs_south_america['match_status'], 'o-', ms = 2.5, color = 'green', linestyle = '')\n",
    "plt.xlabel('YEAR')\n",
    "plt.ylabel('MATCH STATUS')\n",
    "plt.title('Plot of match_status wrt years')\n",
    "plt.grid(True)\n",
    "plt.show()\n",
    "\n",
    "plt.hist(eu2_vs_south_america['match_status'], color = 'blue')\n",
    "plt.title('Histogram of match_status')"
   ]
  },
  {
   "cell_type": "code",
   "execution_count": null,
   "id": "ef2e2593",
   "metadata": {},
   "outputs": [],
   "source": []
  },
  {
   "cell_type": "code",
   "execution_count": null,
   "id": "f63d17f2",
   "metadata": {},
   "outputs": [],
   "source": []
  },
  {
   "cell_type": "code",
   "execution_count": null,
   "id": "2ae1e361",
   "metadata": {},
   "outputs": [],
   "source": []
  }
 ],
 "metadata": {
  "kernelspec": {
   "display_name": "Python 3",
   "language": "python",
   "name": "python3"
  },
  "language_info": {
   "codemirror_mode": {
    "name": "ipython",
    "version": 3
   },
   "file_extension": ".py",
   "mimetype": "text/x-python",
   "name": "python",
   "nbconvert_exporter": "python",
   "pygments_lexer": "ipython3",
   "version": "3.8.8"
  }
 },
 "nbformat": 4,
 "nbformat_minor": 5
}
