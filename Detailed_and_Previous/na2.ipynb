{
 "cells": [
  {
   "cell_type": "code",
   "execution_count": 1,
   "id": "fa58f9c1",
   "metadata": {},
   "outputs": [],
   "source": [
    "import pandas as pd\n",
    "import numpy as np\n",
    "import matplotlib.pyplot as plt "
   ]
  },
  {
   "cell_type": "code",
   "execution_count": 2,
   "id": "cfed00bd",
   "metadata": {},
   "outputs": [
    {
     "name": "stdout",
     "output_type": "stream",
     "text": [
      "            date home_team away_team  year  home  away  goal_margin\n",
      "0     1879-01-18       EU1       EU3  1879     1    -1            1\n",
      "1     1880-03-15       EU3       EU1  1880    -1     1            1\n",
      "2     1881-02-26       EU1       EU3  1881    -1     1            1\n",
      "3     1882-03-13       EU3       EU1  1882     1    -1            2\n",
      "4     1883-02-03       EU1       EU3  1883     1    -1            5\n",
      "...          ...       ...       ...   ...   ...   ...          ...\n",
      "8760  2021-07-20       NA2       AS1  2021    -1     1            2\n",
      "8761  2021-07-24       NA1       NA2  2021     1    -1            3\n",
      "8762  2021-07-24       AS1       NA2  2021     1    -1            1\n",
      "8763  2021-07-25       NA1       NA1  2021    -1     1            2\n",
      "8764  2021-07-29       NA1       NA1  2021     1    -1            1\n",
      "\n",
      "[8765 rows x 7 columns]\n"
     ]
    }
   ],
   "source": [
    "data = pd.read_excel('Cleaned_results.xlsx')\n",
    "data = pd.DataFrame(data)\n",
    "\n",
    "print(data)"
   ]
  },
  {
   "cell_type": "code",
   "execution_count": 3,
   "id": "5dcc3c64",
   "metadata": {},
   "outputs": [
    {
     "name": "stdout",
     "output_type": "stream",
     "text": [
      "            date      home_team      away_team  year  home  away  goal_margin\n",
      "1176  1952-03-23            NA2  South_America  1952    -1     1            6\n",
      "1183  1952-04-06            NA2  South_America  1952    -1     1            5\n",
      "1664  1961-03-19            NA2  South_America  1961     0     0            0\n",
      "2188  1969-05-14            NA2  South_America  1969    -1     1            3\n",
      "2382  1972-02-09            NA2  South_America  1972     1    -1            1\n",
      "...          ...            ...            ...   ...   ...   ...          ...\n",
      "8582  2019-10-15  South_America            NA2  2019     1    -1            2\n",
      "8654  2020-11-13           Asia            NA2  2020     1    -1            1\n",
      "8748  2021-07-04           Asia            NA2  2021     1    -1            1\n",
      "8754  2021-07-13           Asia            NA2  2021     0     0            0\n",
      "8762  2021-07-24           Asia            NA2  2021     1    -1            1\n",
      "\n",
      "[187 rows x 7 columns]\n"
     ]
    }
   ],
   "source": [
    "#sample analysis on NA2\n",
    "use_NA2 = []\n",
    "for k in range (len(data)):\n",
    "    if data['home_team'][k] == 'NA2' and data['away_team'][k] not in ['NA1', 'NA2']:\n",
    "        use_NA2.append(k)\n",
    "for g in range (len(data)):\n",
    "    if data['away_team'][g] == 'NA2' and data['home_team'][g] not in ['NA1', 'NA2']:\n",
    "        use_NA2.append(g)\n",
    "data_na2 = data.filter(items = use_NA2, axis = 0)\n",
    "data_na2 = data_na2.replace(to_replace = r'^AS.$', value = 'Asia', regex = True)\n",
    "data_na2 = data_na2.replace(to_replace = r'^EU.$', value = 'Europe', regex = True)\n",
    "data_na2 = data_na2.replace(to_replace = r'^SA.$', value = 'South_America', regex = True)\n",
    "data_na2 = data_na2.replace(to_replace = r'^AF.$', value = 'Africa', regex = True)\n",
    "print(data_na2)"
   ]
  },
  {
   "cell_type": "code",
   "execution_count": 4,
   "id": "9924216e",
   "metadata": {},
   "outputs": [
    {
     "name": "stdout",
     "output_type": "stream",
     "text": [
      "    north_america_tier2       opponent  match_status  goal_margin  year\n",
      "0                   NA2  South_America            -1            6  1952\n",
      "1                   NA2  South_America            -1            5  1952\n",
      "2                   NA2  South_America             0            0  1961\n",
      "3                   NA2  South_America            -1            3  1969\n",
      "4                   NA2  South_America             1            1  1972\n",
      "..                  ...            ...           ...          ...   ...\n",
      "182                 NA2  South_America            -1            2  2019\n",
      "183                 NA2           Asia            -1            1  2020\n",
      "184                 NA2           Asia            -1            1  2021\n",
      "185                 NA2           Asia             0            0  2021\n",
      "186                 NA2           Asia            -1            1  2021\n",
      "\n",
      "[187 rows x 5 columns]\n"
     ]
    }
   ],
   "source": [
    "na = []\n",
    "opponent = []\n",
    "match_status = []\n",
    "for x in range (len(data_na2)):\n",
    "    na.append('NA2')\n",
    "    if np.array(data_na2['home_team'])[x] == 'NA2':\n",
    "        opponent.append(np.array(data_na2['away_team'])[x])\n",
    "        match_status.append(np.array(data_na2['home'])[x])\n",
    "    else:\n",
    "        opponent.append(np.array(data_na2['home_team'])[x])\n",
    "        match_status.append(np.array(data_na2['away'])[x])\n",
    "        \n",
    "na2 = pd.DataFrame(data = {'north_america_tier2' : na, 'opponent' : opponent, 'match_status' : match_status, 'goal_margin' : np.array(data_na2['goal_margin']), 'year' : np.array(data_na2['year'])})\n",
    "\n",
    "print(na2)"
   ]
  },
  {
   "cell_type": "code",
   "execution_count": 5,
   "id": "059265d8",
   "metadata": {},
   "outputs": [
    {
     "name": "stdout",
     "output_type": "stream",
     "text": [
      "187\n"
     ]
    }
   ],
   "source": [
    "#making sub-data-frame wrt opponent's region\n",
    "na2_asia = []\n",
    "na2_europe =[]\n",
    "na2_south_america =[]\n",
    "na2_africa = []\n",
    "\n",
    "for y in range (len(na2)):\n",
    "    if opponent[y] == 'Asia':\n",
    "        na2_asia.append(y)\n",
    "    elif opponent[y] == 'South_America':\n",
    "        na2_south_america.append(y)\n",
    "    elif opponent[y] == 'Europe':\n",
    "        na2_europe.append(y)\n",
    "    if opponent[y] == 'Africa':\n",
    "        na2_africa.append(y)\n",
    "#verifying\n",
    "print(len(na2_africa) + len(na2_asia) + len(na2_europe) + len(na2_south_america) )"
   ]
  },
  {
   "cell_type": "code",
   "execution_count": 6,
   "id": "fa37c4ca",
   "metadata": {},
   "outputs": [],
   "source": [
    "#na2_vs_asia \n",
    "na2_vs_asia = na2.filter(items = na2_asia, axis = 0)\n",
    "\n",
    "#na2_vs_europe \n",
    "na2_vs_europe = na2.filter(items = na2_europe, axis = 0)\n",
    "\n",
    "#na2_vs_south_america \n",
    "na2_vs_south_america = na2.filter(items = na2_south_america, axis = 0)\n",
    "\n",
    "#na2_vs_africa \n",
    "na2_vs_africa = na2.filter(items = na2_africa, axis = 0)\n",
    "\n",
    "na2_vs_asia.to_excel(\"Na_Tier2_vs_Asia.xlsx\", index = False)\n",
    "na2_vs_europe.to_excel(\"Na_Tier2_vs_Europe.xlsx\", index = False)\n",
    "na2_vs_south_america.to_excel(\"Na_Tier2_vs_South_America.xlsx\", index = False)\n",
    "na2_vs_africa.to_excel(\"Na_Tier2_vs_Africa.xlsx\", index = False)"
   ]
  },
  {
   "cell_type": "code",
   "execution_count": 7,
   "id": "b6eea2f5",
   "metadata": {},
   "outputs": [
    {
     "name": "stdout",
     "output_type": "stream",
     "text": [
      "    north_america_tier2 opponent  match_status  goal_margin  year\n",
      "85                  NA2     Asia             0            0  2017\n",
      "87                  NA2     Asia             0            0  2018\n",
      "91                  NA2     Asia            -1            2  2021\n",
      "100                 NA2     Asia             1            1  1982\n",
      "101                 NA2     Asia             0            0  1982\n",
      "119                 NA2     Asia             0            0  2002\n",
      "124                 NA2     Asia            -1            1  2004\n",
      "129                 NA2     Asia            -1            1  2005\n",
      "143                 NA2     Asia             1            1  2010\n",
      "154                 NA2     Asia            -1            6  2014\n",
      "164                 NA2     Asia             0            0  2017\n",
      "165                 NA2     Asia            -1            1  2017\n",
      "167                 NA2     Asia            -1            2  2017\n",
      "174                 NA2     Asia            -1            3  2018\n",
      "183                 NA2     Asia            -1            1  2020\n",
      "184                 NA2     Asia            -1            1  2021\n",
      "185                 NA2     Asia             0            0  2021\n",
      "186                 NA2     Asia            -1            1  2021\n"
     ]
    },
    {
     "data": {
      "image/png": "[encoded data removed]",
      "text/plain": [
       "<Figure size 432x288 with 1 Axes>"
      ]
     },
     "metadata": {
      "needs_background": "light"
     },
     "output_type": "display_data"
    },
    {
     "data": {
      "text/plain": [
       "Text(0.5, 1.0, 'Histogram of match_status')"
      ]
     },
     "execution_count": 7,
     "metadata": {},
     "output_type": "execute_result"
    },
    {
     "data": {
      "image/png": "[encoded data removed]",
      "text/plain": [
       "<Figure size 432x288 with 1 Axes>"
      ]
     },
     "metadata": {
      "needs_background": "light"
     },
     "output_type": "display_data"
    }
   ],
   "source": [
    "#checking\n",
    "print(na2_vs_asia)\n",
    "\n",
    "#plot na2_vs_africa\n",
    "plt.plot(na2_vs_africa['year'], na2_vs_africa['match_status'], 'o-', ms = 2.5, color = 'green', linestyle = '')\n",
    "plt.xlabel('YEAR')\n",
    "plt.ylabel('MATCH STATUS')\n",
    "plt.title('Plot of match_status wrt years')\n",
    "plt.grid(True)\n",
    "plt.show()\n",
    "\n",
    "plt.hist(na2_vs_africa['match_status'], color = 'blue')\n",
    "plt.title('Histogram of match_status')"
   ]
  },
  {
   "cell_type": "code",
   "execution_count": null,
   "id": "9117206a",
   "metadata": {},
   "outputs": [],
   "source": []
  },
  {
   "cell_type": "code",
   "execution_count": null,
   "id": "7e60cfc9",
   "metadata": {},
   "outputs": [],
   "source": []
  },
  {
   "cell_type": "code",
   "execution_count": null,
   "id": "b3377576",
   "metadata": {},
   "outputs": [],
   "source": []
  }
 ],
 "metadata": {
  "kernelspec": {
   "display_name": "Python 3",
   "language": "python",
   "name": "python3"
  },
  "language_info": {
   "codemirror_mode": {
    "name": "ipython",
    "version": 3
   },
   "file_extension": ".py",
   "mimetype": "text/x-python",
   "name": "python",
   "nbconvert_exporter": "python",
   "pygments_lexer": "ipython3",
   "version": "3.8.8"
  }
 },
 "nbformat": 4,
 "nbformat_minor": 5
}
