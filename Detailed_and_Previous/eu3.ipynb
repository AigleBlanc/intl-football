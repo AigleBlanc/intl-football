{
 "cells": [
  {
   "cell_type": "code",
   "execution_count": 1,
   "id": "4950b55b",
   "metadata": {},
   "outputs": [],
   "source": [
    "import pandas as pd\n",
    "import numpy as np\n",
    "import matplotlib.pyplot as plt "
   ]
  },
  {
   "cell_type": "code",
   "execution_count": 2,
   "id": "e22b486b",
   "metadata": {},
   "outputs": [
    {
     "name": "stdout",
     "output_type": "stream",
     "text": [
      "            date home_team away_team  year  home  away  goal_margin\n",
      "0     1879-01-18       EU1       EU3  1879     1    -1            1\n",
      "1     1880-03-15       EU3       EU1  1880    -1     1            1\n",
      "2     1881-02-26       EU1       EU3  1881    -1     1            1\n",
      "3     1882-03-13       EU3       EU1  1882     1    -1            2\n",
      "4     1883-02-03       EU1       EU3  1883     1    -1            5\n",
      "...          ...       ...       ...   ...   ...   ...          ...\n",
      "8760  2021-07-20       NA2       AS1  2021    -1     1            2\n",
      "8761  2021-07-24       NA1       NA2  2021     1    -1            3\n",
      "8762  2021-07-24       AS1       NA2  2021     1    -1            1\n",
      "8763  2021-07-25       NA1       NA1  2021    -1     1            2\n",
      "8764  2021-07-29       NA1       NA1  2021     1    -1            1\n",
      "\n",
      "[8765 rows x 7 columns]\n"
     ]
    }
   ],
   "source": [
    "data = pd.read_excel('Cleaned_results.xlsx')\n",
    "data = pd.DataFrame(data)\n",
    "\n",
    "print(data)"
   ]
  },
  {
   "cell_type": "code",
   "execution_count": 3,
   "id": "32282612",
   "metadata": {},
   "outputs": [
    {
     "name": "stdout",
     "output_type": "stream",
     "text": [
      "            date      home_team      away_team  year  home  away  goal_margin\n",
      "346   1924-06-29            EU3         Africa  1924     1    -1            5\n",
      "1135  1950-07-13            EU3  South_America  1950    -1     1            1\n",
      "1504  1958-06-08            EU3  North_America  1958     1    -1            3\n",
      "1512  1958-06-29            EU3  South_America  1958    -1     1            3\n",
      "1760  1962-10-11            EU3         Africa  1962     0     0            0\n",
      "...          ...            ...            ...   ...   ...   ...          ...\n",
      "8315  2018-03-27  North_America            EU3  2018    -1     1            1\n",
      "8324  2018-05-28  North_America            EU3  2018     0     0            0\n",
      "8365  2018-06-21  South_America            EU3  2018    -1     1            3\n",
      "8377  2018-06-27  North_America            EU3  2018    -1     1            3\n",
      "8379  2018-06-28           Asia            EU3  2018    -1     1            1\n",
      "\n",
      "[267 rows x 7 columns]\n"
     ]
    }
   ],
   "source": [
    "#sample analysis on EU3\n",
    "use_EU3 = []\n",
    "for k in range (len(data)):\n",
    "    if data['home_team'][k] == 'EU3' and data['away_team'][k] not in ['EU1', 'EU2', 'EU3']:\n",
    "        use_EU3.append(k)\n",
    "for g in range (len(data)):\n",
    "    if data['away_team'][g] == 'EU3' and data['home_team'][g] not in ['EU1', 'EU2', 'EU3']:\n",
    "        use_EU3.append(g)\n",
    "data_eu3 = data.filter(items = use_EU3, axis = 0)\n",
    "data_eu3 = data_eu3.replace(to_replace = r'^AS.$', value = 'Asia', regex = True)\n",
    "data_eu3 = data_eu3.replace(to_replace = r'^SA.$', value = 'South_America', regex = True)\n",
    "data_eu3 = data_eu3.replace(to_replace = r'^NA.$', value = 'North_America', regex = True)\n",
    "data_eu3 = data_eu3.replace(to_replace = r'^AF.$', value = 'Africa', regex = True)\n",
    "print(data_eu3)"
   ]
  },
  {
   "cell_type": "code",
   "execution_count": 4,
   "id": "0b852200",
   "metadata": {},
   "outputs": [
    {
     "name": "stdout",
     "output_type": "stream",
     "text": [
      "    europe_tier3       opponent  match_status  goal_margin  year\n",
      "0            EU3         Africa             1            5  1924\n",
      "1            EU3  South_America            -1            1  1950\n",
      "2            EU3  North_America             1            3  1958\n",
      "3            EU3  South_America            -1            3  1958\n",
      "4            EU3         Africa             0            0  1962\n",
      "..           ...            ...           ...          ...   ...\n",
      "262          EU3  North_America             1            1  2018\n",
      "263          EU3  North_America             0            0  2018\n",
      "264          EU3  South_America             1            3  2018\n",
      "265          EU3  North_America             1            3  2018\n",
      "266          EU3           Asia             1            1  2018\n",
      "\n",
      "[267 rows x 5 columns]\n"
     ]
    }
   ],
   "source": [
    "eu = []\n",
    "opponent = []\n",
    "match_status = []\n",
    "for x in range (len(data_eu3)):\n",
    "    eu.append('EU3')\n",
    "    if np.array(data_eu3['home_team'])[x] == 'EU3':\n",
    "        opponent.append(np.array(data_eu3['away_team'])[x])\n",
    "        match_status.append(np.array(data_eu3['home'])[x])\n",
    "    else:\n",
    "        opponent.append(np.array(data_eu3['home_team'])[x])\n",
    "        match_status.append(np.array(data_eu3['away'])[x])\n",
    "        \n",
    "eu3 = pd.DataFrame(data = {'europe_tier3' : eu, 'opponent' : opponent, 'match_status' : match_status, 'goal_margin' : np.array(data_eu3['goal_margin']), 'year' : np.array(data_eu3['year'])})\n",
    "\n",
    "print(eu3)"
   ]
  },
  {
   "cell_type": "code",
   "execution_count": 5,
   "id": "ff1b57e7",
   "metadata": {},
   "outputs": [
    {
     "name": "stdout",
     "output_type": "stream",
     "text": [
      "267\n"
     ]
    }
   ],
   "source": [
    "#making sub-data-frame wrt opponent's region\n",
    "eu3_asia = []\n",
    "eu3_north_america =[]\n",
    "eu3_south_america =[]\n",
    "eu3_africa = []\n",
    "\n",
    "for y in range (len(eu3)):\n",
    "    if opponent[y] == 'Asia':\n",
    "        eu3_asia.append(y)\n",
    "    elif opponent[y] == 'North_America':\n",
    "        eu3_north_america.append(y)\n",
    "    elif opponent[y] == 'South_America':\n",
    "        eu3_south_america.append(y)\n",
    "    if opponent[y] == 'Africa':\n",
    "        eu3_africa.append(y)\n",
    "#verifying\n",
    "print(len(eu3_africa) + len(eu3_asia) + len(eu3_south_america) + len(eu3_north_america) )"
   ]
  },
  {
   "cell_type": "code",
   "execution_count": 6,
   "id": "cd0cf17e",
   "metadata": {},
   "outputs": [],
   "source": [
    "#eu3_vs_asia \n",
    "eu3_vs_asia = eu3.filter(items = eu3_asia, axis = 0)\n",
    "\n",
    "#eu3_vs_north_america \n",
    "eu3_vs_north_america = eu3.filter(items = eu3_north_america, axis = 0)\n",
    "\n",
    "#eu3_vs_south_america \n",
    "eu3_vs_south_america = eu3.filter(items = eu3_south_america, axis = 0)\n",
    "\n",
    "#eu3_vs_africa \n",
    "eu3_vs_africa = eu3.filter(items = eu3_africa, axis = 0)\n",
    "\n",
    "eu3_vs_asia.to_excel(\"Eu_Tier3_vs_Asia.xlsx\", index = False)\n",
    "eu3_vs_north_america.to_excel(\"Eu_Tier3_vs_North_America.xlsx\", index = False)\n",
    "eu3_vs_south_america.to_excel(\"Eu_Tier3_vs_South_America.xlsx\", index = False)\n",
    "eu3_vs_africa.to_excel(\"Eu_Tier3_vs_Africa.xlsx\", index = False)"
   ]
  },
  {
   "cell_type": "code",
   "execution_count": 7,
   "id": "aa9b4492",
   "metadata": {},
   "outputs": [
    {
     "name": "stdout",
     "output_type": "stream",
     "text": [
      "    europe_tier3 opponent  match_status  goal_margin  year\n",
      "10           EU3     Asia             1            2  1970\n",
      "18           EU3     Asia             1            3  1980\n",
      "28           EU3     Asia             1            4  1990\n",
      "32           EU3     Asia             1            1  1994\n",
      "36           EU3     Asia             0            0  1994\n",
      "..           ...      ...           ...          ...   ...\n",
      "239          EU3     Asia             0            0  2006\n",
      "240          EU3     Asia             1            4  2006\n",
      "243          EU3     Asia             1            3  2006\n",
      "251          EU3     Asia             0            0  2009\n",
      "266          EU3     Asia             1            1  2018\n",
      "\n",
      "[64 rows x 5 columns]\n"
     ]
    },
    {
     "data": {
      "image/png": "[encoded data removed]",
      "text/plain": [
       "<Figure size 432x288 with 1 Axes>"
      ]
     },
     "metadata": {
      "needs_background": "light"
     },
     "output_type": "display_data"
    },
    {
     "data": {
      "text/plain": [
       "Text(0.5, 1.0, 'Histogram of match_status')"
      ]
     },
     "execution_count": 7,
     "metadata": {},
     "output_type": "execute_result"
    },
    {
     "data": {
      "image/png": "[encoded data removed]",
      "text/plain": [
       "<Figure size 432x288 with 1 Axes>"
      ]
     },
     "metadata": {
      "needs_background": "light"
     },
     "output_type": "display_data"
    }
   ],
   "source": [
    "#checking\n",
    "print(eu3_vs_asia)\n",
    "\n",
    "#plot eu3_vs_africa\n",
    "plt.plot(eu3_vs_africa['year'], eu3_vs_africa['match_status'], 'o-', ms = 2.5, color = 'green', linestyle = '')\n",
    "plt.xlabel('YEAR')\n",
    "plt.ylabel('MATCH STATUS')\n",
    "plt.title('Plot of match_status wrt years')\n",
    "plt.grid(True)\n",
    "plt.show()\n",
    "\n",
    "plt.hist(eu3_vs_africa['match_status'], color = 'blue')\n",
    "plt.title('Histogram of match_status')"
   ]
  },
  {
   "cell_type": "code",
   "execution_count": null,
   "id": "ef2e2593",
   "metadata": {},
   "outputs": [],
   "source": []
  },
  {
   "cell_type": "code",
   "execution_count": null,
   "id": "f63d17f2",
   "metadata": {},
   "outputs": [],
   "source": []
  },
  {
   "cell_type": "code",
   "execution_count": null,
   "id": "2ae1e361",
   "metadata": {},
   "outputs": [],
   "source": []
  }
 ],
 "metadata": {
  "kernelspec": {
   "display_name": "Python 3",
   "language": "python",
   "name": "python3"
  },
  "language_info": {
   "codemirror_mode": {
    "name": "ipython",
    "version": 3
   },
   "file_extension": ".py",
   "mimetype": "text/x-python",
   "name": "python",
   "nbconvert_exporter": "python",
   "pygments_lexer": "ipython3",
   "version": "3.8.8"
  }
 },
 "nbformat": 4,
 "nbformat_minor": 5
}
