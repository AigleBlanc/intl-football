{
 "cells": [
  {
   "cell_type": "code",
   "execution_count": 1,
   "id": "cc323e78",
   "metadata": {},
   "outputs": [],
   "source": [
    "import pandas as pd\n",
    "import numpy as np\n",
    "import matplotlib.pyplot as plt"
   ]
  },
  {
   "cell_type": "code",
   "execution_count": 2,
   "id": "07763f9f",
   "metadata": {},
   "outputs": [
    {
     "name": "stdout",
     "output_type": "stream",
     "text": [
      "            date home_team away_team  year  home  away  goal_margin\n",
      "0     1879-01-18       EU1       EU3  1879     1    -1            1\n",
      "1     1880-03-15       EU3       EU1  1880    -1     1            1\n",
      "2     1881-02-26       EU1       EU3  1881    -1     1            1\n",
      "3     1882-03-13       EU3       EU1  1882     1    -1            2\n",
      "4     1883-02-03       EU1       EU3  1883     1    -1            5\n",
      "...          ...       ...       ...   ...   ...   ...          ...\n",
      "8760  2021-07-20       NA2       AS1  2021    -1     1            2\n",
      "8761  2021-07-24       NA1       NA2  2021     1    -1            3\n",
      "8762  2021-07-24       AS1       NA2  2021     1    -1            1\n",
      "8763  2021-07-25       NA1       NA1  2021    -1     1            2\n",
      "8764  2021-07-29       NA1       NA1  2021     1    -1            1\n",
      "\n",
      "[8765 rows x 7 columns]\n"
     ]
    }
   ],
   "source": [
    "data = pd.read_excel('Cleaned_results.xlsx')\n",
    "data = pd.DataFrame(data)\n",
    "\n",
    "print(data)"
   ]
  },
  {
   "cell_type": "code",
   "execution_count": 3,
   "id": "2ec5de54",
   "metadata": {},
   "outputs": [
    {
     "name": "stdout",
     "output_type": "stream",
     "text": [
      "            date      home_team away_team  year  home  away  goal_margin\n",
      "1120  1950-06-24            AF3      Asia  1950     1    -1            1\n",
      "1126  1950-07-01            AF3      Asia  1950     1    -1            1\n",
      "1131  1950-07-08            AF3      Asia  1950    -1     1            1\n",
      "1138  1950-07-23            AF3      Asia  1950    -1     1            2\n",
      "4089  1989-10-31            AF3      Asia  1989     1    -1            1\n",
      "...          ...            ...       ...   ...   ...   ...          ...\n",
      "7480  2012-10-12         Europe       AF3  2012     1    -1            1\n",
      "7703  2014-03-05           Asia       AF3  2014    -1     1            1\n",
      "7713  2014-05-26           Asia       AF3  2014     0     0            0\n",
      "8176  2017-06-02  South_America       AF3  2017     1    -1            3\n",
      "8583  2019-10-15  South_America       AF3  2019     1    -1            1\n",
      "\n",
      "[91 rows x 7 columns]\n"
     ]
    }
   ],
   "source": [
    "#sample analysis on AF3\n",
    "use_AF3 = []\n",
    "for k in range (len(data)):\n",
    "    if data['home_team'][k] == 'AF3' and data['away_team'][k] not in ['AF1', 'AF2', 'AF3']:\n",
    "        use_AF3.append(k)\n",
    "for g in range (len(data)):\n",
    "    if data['away_team'][g] == 'AF3' and data['home_team'][g] not in ['AF1', 'AF2', 'AF3']:\n",
    "        use_AF3.append(g)\n",
    "data_af3 = data.filter(items = use_AF3, axis = 0)\n",
    "data_af3 = data_af3.replace(to_replace = r'^AS.$', value = 'Asia', regex = True)\n",
    "data_af3 = data_af3.replace(to_replace = r'^SA.$', value = 'South_America', regex = True)\n",
    "data_af3 = data_af3.replace(to_replace = r'^NA.$', value = 'North_America', regex = True)\n",
    "data_af3 = data_af3.replace(to_replace = r'^EU.$', value = 'Europe', regex = True)\n",
    "print(data_af3)"
   ]
  },
  {
   "cell_type": "code",
   "execution_count": 4,
   "id": "fca19770",
   "metadata": {},
   "outputs": [
    {
     "name": "stdout",
     "output_type": "stream",
     "text": [
      "   africa_tier3       opponent  match_status  goal_margin  year\n",
      "0           AF3           Asia             1            1  1950\n",
      "1           AF3           Asia             1            1  1950\n",
      "2           AF3           Asia            -1            1  1950\n",
      "3           AF3           Asia            -1            2  1950\n",
      "4           AF3           Asia             1            1  1989\n",
      "..          ...            ...           ...          ...   ...\n",
      "86          AF3         Europe            -1            1  2012\n",
      "87          AF3           Asia             1            1  2014\n",
      "88          AF3           Asia             0            0  2014\n",
      "89          AF3  South_America            -1            3  2017\n",
      "90          AF3  South_America            -1            1  2019\n",
      "\n",
      "[91 rows x 5 columns]\n"
     ]
    }
   ],
   "source": [
    "af = []\n",
    "opponent = []\n",
    "match_status = []\n",
    "for x in range (len(data_af3)):\n",
    "    af.append('AF3')\n",
    "    if np.array(data_af3['home_team'])[x] == 'AF3':\n",
    "        opponent.append(np.array(data_af3['away_team'])[x])\n",
    "        match_status.append(np.array(data_af3['home'])[x])\n",
    "    else:\n",
    "        opponent.append(np.array(data_af3['home_team'])[x])\n",
    "        match_status.append(np.array(data_af3['away'])[x])\n",
    "        \n",
    "af3 = pd.DataFrame(data = {'africa_tier3' : af, 'opponent' : opponent, 'match_status' : match_status, 'goal_margin' : np.array(data_af3['goal_margin']), 'year' : np.array(data_af3['year'])})\n",
    "\n",
    "print(af3)"
   ]
  },
  {
   "cell_type": "code",
   "execution_count": 5,
   "id": "cb782baa",
   "metadata": {},
   "outputs": [
    {
     "name": "stdout",
     "output_type": "stream",
     "text": [
      "91\n"
     ]
    }
   ],
   "source": [
    "#making sub-data-frame wrt opponent's region\n",
    "af3_asia = []\n",
    "af3_north_america =[]\n",
    "af3_south_america =[]\n",
    "af3_europe = []\n",
    "\n",
    "for y in range (len(af3)):\n",
    "    if opponent[y] == 'Asia':\n",
    "        af3_asia.append(y)\n",
    "    elif opponent[y] == 'North_America':\n",
    "        af3_north_america.append(y)\n",
    "    elif opponent[y] == 'South_America':\n",
    "        af3_south_america.append(y)\n",
    "    if opponent[y] == 'Europe':\n",
    "        af3_europe.append(y)\n",
    "#verifying\n",
    "print(len(af3_europe) + len(af3_asia) + len(af3_south_america) + len(af3_north_america) )"
   ]
  },
  {
   "cell_type": "code",
   "execution_count": 6,
   "id": "f21ebff6",
   "metadata": {},
   "outputs": [],
   "source": [
    "#af3_vs_asia \n",
    "af3_vs_asia = af3.filter(items = af3_asia, axis = 0)\n",
    "\n",
    "#af3_vs_north_america \n",
    "af3_vs_north_america = af3.filter(items = af3_north_america, axis = 0)\n",
    "\n",
    "#af2_vs_south_america \n",
    "af3_vs_south_america = af3.filter(items = af3_south_america, axis = 0)\n",
    "\n",
    "#af2_vs_europe \n",
    "af3_vs_europe = af3.filter(items = af3_europe, axis = 0)\n",
    "\n",
    "af3_vs_asia.to_excel(\"Af_Tier3_vs_Asia.xlsx\", index = False)\n",
    "af3_vs_north_america.to_excel(\"Af_Tier3_vs_North_America.xlsx\", index = False)\n",
    "af3_vs_south_america.to_excel(\"Af_Tier3_vs_South_America.xlsx\", index = False)\n",
    "af3_vs_europe.to_excel(\"Af_Tier3_vs_Europe.xlsx\", index = False)"
   ]
  },
  {
   "cell_type": "code",
   "execution_count": 7,
   "id": "ce96d3c7",
   "metadata": {},
   "outputs": [
    {
     "name": "stdout",
     "output_type": "stream",
     "text": [
      "   africa_tier3 opponent  match_status  goal_margin  year\n",
      "7           AF3   Europe             0            0  1995\n",
      "10          AF3   Europe            -1            2  1997\n",
      "12          AF3   Europe             0            0  1998\n",
      "15          AF3   Europe             1            1  1999\n",
      "16          AF3   Europe             0            0  2000\n",
      "17          AF3   Europe            -1            1  2002\n",
      "19          AF3   Europe            -1            1  2003\n",
      "29          AF3   Europe             1            1  2009\n",
      "31          AF3   Europe            -1            2  2009\n",
      "33          AF3   Europe            -1            1  2009\n",
      "37          AF3   Europe             1            1  2010\n",
      "40          AF3   Europe             1            1  2010\n",
      "41          AF3   Europe             1            1  2013\n",
      "44          AF3   Europe            -1            1  1924\n",
      "50          AF3   Europe            -1            2  1953\n",
      "56          AF3   Europe            -1            6  1958\n",
      "60          AF3   Europe            -1            1  1997\n",
      "61          AF3   Europe            -1            1  1997\n",
      "62          AF3   Europe            -1            3  1997\n",
      "66          AF3   Europe            -1            3  1998\n",
      "68          AF3   Europe             0            0  1999\n",
      "72          AF3   Europe            -1            1  2001\n",
      "73          AF3   Europe            -1            3  2001\n",
      "79          AF3   Europe            -1            2  2005\n",
      "80          AF3   Europe            -1            2  2007\n",
      "82          AF3   Europe            -1            2  2009\n",
      "83          AF3   Europe            -1            2  2009\n",
      "86          AF3   Europe            -1            1  2012\n"
     ]
    },
    {
     "data": {
      "image/png": "[encoded data removed]",
      "text/plain": [
       "<Figure size 432x288 with 1 Axes>"
      ]
     },
     "metadata": {
      "needs_background": "light"
     },
     "output_type": "display_data"
    },
    {
     "data": {
      "text/plain": [
       "Text(0.5, 1.0, 'Histogram of match_status')"
      ]
     },
     "execution_count": 7,
     "metadata": {},
     "output_type": "execute_result"
    },
    {
     "data": {
      "image/png": "[encoded data removed]",
      "text/plain": [
       "<Figure size 432x288 with 1 Axes>"
      ]
     },
     "metadata": {
      "needs_background": "light"
     },
     "output_type": "display_data"
    }
   ],
   "source": [
    "#checking\n",
    "print(af3_vs_europe)\n",
    "\n",
    "#plot af1_vs_europe\n",
    "plt.plot(af3_vs_europe['year'], af3_vs_europe['match_status'], 'o-', ms = 2.5, color = 'green', linestyle = '')\n",
    "plt.xlabel('YEAR')\n",
    "plt.ylabel('MATCH STATUS')\n",
    "plt.title('Plot of match_status wrt years')\n",
    "plt.grid(True)\n",
    "plt.show()\n",
    "\n",
    "plt.hist(af3_vs_europe['match_status'], color = 'blue')\n",
    "plt.title('Histogram of match_status')"
   ]
  },
  {
   "cell_type": "code",
   "execution_count": null,
   "id": "1c20dc60",
   "metadata": {},
   "outputs": [],
   "source": []
  }
 ],
 "metadata": {
  "kernelspec": {
   "display_name": "Python 3",
   "language": "python",
   "name": "python3"
  },
  "language_info": {
   "codemirror_mode": {
    "name": "ipython",
    "version": 3
   },
   "file_extension": ".py",
   "mimetype": "text/x-python",
   "name": "python",
   "nbconvert_exporter": "python",
   "pygments_lexer": "ipython3",
   "version": "3.8.8"
  }
 },
 "nbformat": 4,
 "nbformat_minor": 5
}
