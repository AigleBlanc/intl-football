{
 "cells": [
  {
   "cell_type": "code",
   "execution_count": 1,
   "id": "fa58f9c1",
   "metadata": {},
   "outputs": [],
   "source": [
    "import pandas as pd\n",
    "import numpy as np\n",
    "import matplotlib.pyplot as plt "
   ]
  },
  {
   "cell_type": "code",
   "execution_count": 2,
   "id": "cfed00bd",
   "metadata": {},
   "outputs": [
    {
     "name": "stdout",
     "output_type": "stream",
     "text": [
      "            date home_team away_team  year  home  away  goal_margin\n",
      "0     1879-01-18       EU1       EU3  1879     1    -1            1\n",
      "1     1880-03-15       EU3       EU1  1880    -1     1            1\n",
      "2     1881-02-26       EU1       EU3  1881    -1     1            1\n",
      "3     1882-03-13       EU3       EU1  1882     1    -1            2\n",
      "4     1883-02-03       EU1       EU3  1883     1    -1            5\n",
      "...          ...       ...       ...   ...   ...   ...          ...\n",
      "8760  2021-07-20       NA2       AS1  2021    -1     1            2\n",
      "8761  2021-07-24       NA1       NA2  2021     1    -1            3\n",
      "8762  2021-07-24       AS1       NA2  2021     1    -1            1\n",
      "8763  2021-07-25       NA1       NA1  2021    -1     1            2\n",
      "8764  2021-07-29       NA1       NA1  2021     1    -1            1\n",
      "\n",
      "[8765 rows x 7 columns]\n"
     ]
    }
   ],
   "source": [
    "data = pd.read_excel('Cleaned_results.xlsx')\n",
    "data = pd.DataFrame(data)\n",
    "\n",
    "print(data)"
   ]
  },
  {
   "cell_type": "code",
   "execution_count": 3,
   "id": "5dcc3c64",
   "metadata": {},
   "outputs": [
    {
     "name": "stdout",
     "output_type": "stream",
     "text": [
      "            date      home_team away_team  year  home  away  goal_margin\n",
      "1655  1960-12-23            AS2    Africa  1960     1    -1            1\n",
      "1955  1966-03-18            AS2    Africa  1966    -1     1            1\n",
      "1957  1966-03-19            AS2    Africa  1966    -1     1            1\n",
      "2078  1967-12-10            AS2    Africa  1967     1    -1            4\n",
      "2245  1969-11-18            AS2    Europe  1969     0     0            0\n",
      "...          ...            ...       ...   ...   ...   ...          ...\n",
      "8340  2018-06-08         Europe       AS2  2018     1    -1            1\n",
      "8361  2018-06-20  South_America       AS2  2018     1    -1            1\n",
      "8413  2018-10-11  South_America       AS2  2018     1    -1            4\n",
      "8414  2018-10-11  North_America       AS2  2018     0     0            0\n",
      "8496  2019-06-07         Africa       AS2  2019     1    -1            2\n",
      "\n",
      "[213 rows x 7 columns]\n"
     ]
    }
   ],
   "source": [
    "#sample analysis on AS2\n",
    "use_AS2 = []\n",
    "for k in range (len(data)):\n",
    "    if data['home_team'][k] == 'AS2' and data['away_team'][k] not in ['AS1', 'AS2']:\n",
    "        use_AS2.append(k)\n",
    "for g in range (len(data)):\n",
    "    if data['away_team'][g] == 'AS2' and data['home_team'][g] not in ['AS1', 'AS2']:\n",
    "        use_AS2.append(g)\n",
    "data_as2 = data.filter(items = use_AS2, axis = 0)\n",
    "data_as2 = data_as2.replace(to_replace = r'^NA.$', value = 'North_America', regex = True)\n",
    "data_as2 = data_as2.replace(to_replace = r'^EU.$', value = 'Europe', regex = True)\n",
    "data_as2 = data_as2.replace(to_replace = r'^SA.$', value = 'South_America', regex = True)\n",
    "data_as2 = data_as2.replace(to_replace = r'^AF.$', value = 'Africa', regex = True)\n",
    "print(data_as2)"
   ]
  },
  {
   "cell_type": "code",
   "execution_count": 4,
   "id": "9924216e",
   "metadata": {},
   "outputs": [
    {
     "name": "stdout",
     "output_type": "stream",
     "text": [
      "    Asia_tier2       opponent  match_status  goal_margin  year\n",
      "0          AS2         Africa             1            1  1960\n",
      "1          AS2         Africa            -1            1  1966\n",
      "2          AS2         Africa            -1            1  1966\n",
      "3          AS2         Africa             1            4  1967\n",
      "4          AS2         Europe             0            0  1969\n",
      "..         ...            ...           ...          ...   ...\n",
      "208        AS2         Europe            -1            1  2018\n",
      "209        AS2  South_America            -1            1  2018\n",
      "210        AS2  South_America            -1            4  2018\n",
      "211        AS2  North_America             0            0  2018\n",
      "212        AS2         Africa            -1            2  2019\n",
      "\n",
      "[213 rows x 5 columns]\n"
     ]
    }
   ],
   "source": [
    "asia = []\n",
    "opponent = []\n",
    "match_status = []\n",
    "for x in range (len(data_as2)):\n",
    "    asia.append('AS2')\n",
    "    if np.array(data_as2['home_team'])[x] == 'AS2':\n",
    "        opponent.append(np.array(data_as2['away_team'])[x])\n",
    "        match_status.append(np.array(data_as2['home'])[x])\n",
    "    else:\n",
    "        opponent.append(np.array(data_as2['home_team'])[x])\n",
    "        match_status.append(np.array(data_as2['away'])[x])\n",
    "        \n",
    "as2 = pd.DataFrame(data = {'Asia_tier2' : asia, 'opponent' : opponent, 'match_status' : match_status, 'goal_margin' : np.array(data_as2['goal_margin']), 'year' : np.array(data_as2['year'])})\n",
    "\n",
    "print(as2)"
   ]
  },
  {
   "cell_type": "code",
   "execution_count": 5,
   "id": "059265d8",
   "metadata": {},
   "outputs": [
    {
     "name": "stdout",
     "output_type": "stream",
     "text": [
      "213\n"
     ]
    }
   ],
   "source": [
    "#making sub-data-frame wrt opponent's region\n",
    "as2_north_america = []\n",
    "as2_europe =[]\n",
    "as2_south_america =[]\n",
    "as2_africa = []\n",
    "\n",
    "for y in range (len(as2)):\n",
    "    if opponent[y] == 'North_America':\n",
    "        as2_north_america.append(y)\n",
    "    elif opponent[y] == 'South_America':\n",
    "        as2_south_america.append(y)\n",
    "    elif opponent[y] == 'Europe':\n",
    "        as2_europe.append(y)\n",
    "    if opponent[y] == 'Africa':\n",
    "        as2_africa.append(y)\n",
    "#verifying\n",
    "print(len(as2_africa) + len(as2_north_america) + len(as2_europe) + len(as2_south_america) )"
   ]
  },
  {
   "cell_type": "code",
   "execution_count": 6,
   "id": "fa37c4ca",
   "metadata": {},
   "outputs": [],
   "source": [
    "#as2_vs_north_america \n",
    "as2_vs_north_america = as2.filter(items = as2_north_america, axis = 0)\n",
    "\n",
    "#as2_vs_europe \n",
    "as2_vs_europe = as2.filter(items = as2_europe, axis = 0)\n",
    "\n",
    "#as2_vs_south_america \n",
    "as2_vs_south_america = as2.filter(items = as2_south_america, axis = 0)\n",
    "\n",
    "#as2_vs_africa \n",
    "as2_vs_africa = as2.filter(items = as2_africa, axis = 0)\n",
    "\n",
    "as2_vs_north_america.to_excel(\"As_Tier2_vs_North_America.xlsx\", index = False)\n",
    "as2_vs_europe.to_excel(\"As_Tier2_vs_Europe.xlsx\", index = False)\n",
    "as2_vs_south_america.to_excel(\"As_Tier2_vs_South_America.xlsx\", index = False)\n",
    "as2_vs_africa.to_excel(\"As_Tier2_vs_Africa.xlsx\", index = False)"
   ]
  },
  {
   "cell_type": "code",
   "execution_count": 7,
   "id": "b6eea2f5",
   "metadata": {},
   "outputs": [
    {
     "name": "stdout",
     "output_type": "stream",
     "text": [
      "    Asia_tier2 opponent  match_status  goal_margin  year\n",
      "0          AS2   Africa             1            1  1960\n",
      "1          AS2   Africa            -1            1  1966\n",
      "2          AS2   Africa            -1            1  1966\n",
      "3          AS2   Africa             1            4  1967\n",
      "5          AS2   Africa             0            0  1972\n",
      "..         ...      ...           ...          ...   ...\n",
      "196        AS2   Africa            -1            1  2010\n",
      "197        AS2   Africa             0            0  2012\n",
      "198        AS2   Africa            -1            1  2012\n",
      "206        AS2   Africa             1            2  2018\n",
      "212        AS2   Africa            -1            2  2019\n",
      "\n",
      "[109 rows x 5 columns]\n"
     ]
    },
    {
     "data": {
      "image/png": "[encoded data removed]",
      "text/plain": [
       "<Figure size 432x288 with 1 Axes>"
      ]
     },
     "metadata": {
      "needs_background": "light"
     },
     "output_type": "display_data"
    },
    {
     "data": {
      "text/plain": [
       "Text(0.5, 1.0, 'Histogram of match_status')"
      ]
     },
     "execution_count": 7,
     "metadata": {},
     "output_type": "execute_result"
    },
    {
     "data": {
      "image/png": "[encoded data removed]",
      "text/plain": [
       "<Figure size 432x288 with 1 Axes>"
      ]
     },
     "metadata": {
      "needs_background": "light"
     },
     "output_type": "display_data"
    }
   ],
   "source": [
    "#checking\n",
    "print(as2_vs_africa)\n",
    "\n",
    "#plot as2_vs_africa\n",
    "plt.plot(as2_vs_africa['year'], as2_vs_africa['match_status'], 'o-', ms = 2.5, color = 'green', linestyle = '')\n",
    "plt.xlabel('YEAR')\n",
    "plt.ylabel('MATCH STATUS')\n",
    "plt.title('Plot of match_status wrt years')\n",
    "plt.grid(True)\n",
    "plt.show()\n",
    "\n",
    "plt.hist(as2_vs_africa['match_status'], color = 'blue')\n",
    "plt.title('Histogram of match_status')"
   ]
  },
  {
   "cell_type": "code",
   "execution_count": null,
   "id": "9117206a",
   "metadata": {},
   "outputs": [],
   "source": []
  },
  {
   "cell_type": "code",
   "execution_count": null,
   "id": "7e60cfc9",
   "metadata": {},
   "outputs": [],
   "source": []
  },
  {
   "cell_type": "code",
   "execution_count": null,
   "id": "b3377576",
   "metadata": {},
   "outputs": [],
   "source": []
  }
 ],
 "metadata": {
  "kernelspec": {
   "display_name": "Python 3",
   "language": "python",
   "name": "python3"
  },
  "language_info": {
   "codemirror_mode": {
    "name": "ipython",
    "version": 3
   },
   "file_extension": ".py",
   "mimetype": "text/x-python",
   "name": "python",
   "nbconvert_exporter": "python",
   "pygments_lexer": "ipython3",
   "version": "3.8.8"
  }
 },
 "nbformat": 4,
 "nbformat_minor": 5
}
