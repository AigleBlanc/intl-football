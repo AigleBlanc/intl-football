{
 "cells": [
  {
   "cell_type": "code",
   "execution_count": 1,
   "id": "2772f7fe",
   "metadata": {},
   "outputs": [],
   "source": [
    "import pandas as pd\n",
    "import numpy as np\n",
    "import matplotlib.pyplot as plt "
   ]
  },
  {
   "cell_type": "code",
   "execution_count": 2,
   "id": "67db88a3",
   "metadata": {},
   "outputs": [
    {
     "name": "stdout",
     "output_type": "stream",
     "text": [
      "            date home_team away_team  year  home  away  goal_margin\n",
      "0     1879-01-18       EU1       EU3  1879     1    -1            1\n",
      "1     1880-03-15       EU3       EU1  1880    -1     1            1\n",
      "2     1881-02-26       EU1       EU3  1881    -1     1            1\n",
      "3     1882-03-13       EU3       EU1  1882     1    -1            2\n",
      "4     1883-02-03       EU1       EU3  1883     1    -1            5\n",
      "...          ...       ...       ...   ...   ...   ...          ...\n",
      "8760  2021-07-20       NA2       AS1  2021    -1     1            2\n",
      "8761  2021-07-24       NA1       NA2  2021     1    -1            3\n",
      "8762  2021-07-24       AS1       NA2  2021     1    -1            1\n",
      "8763  2021-07-25       NA1       NA1  2021    -1     1            2\n",
      "8764  2021-07-29       NA1       NA1  2021     1    -1            1\n",
      "\n",
      "[8765 rows x 7 columns]\n"
     ]
    }
   ],
   "source": [
    "data = pd.read_excel('Cleaned_results.xlsx')\n",
    "data = pd.DataFrame(data)\n",
    "\n",
    "print(data)"
   ]
  },
  {
   "cell_type": "code",
   "execution_count": 3,
   "id": "45e606c9",
   "metadata": {},
   "outputs": [
    {
     "name": "stdout",
     "output_type": "stream",
     "text": [
      "            date      home_team away_team  year  home  away  goal_margin\n",
      "1617  1960-06-05            AF1      Asia  1960     1    -1            1\n",
      "1709  1961-11-12            AF1    Europe  1961    -1     1            1\n",
      "1726  1962-04-15            AF1    Europe  1962    -1     1            2\n",
      "1775  1963-01-13            AF1    Europe  1963     1    -1            1\n",
      "1842  1963-12-29            AF1    Europe  1963    -1     1            3\n",
      "...          ...            ...       ...   ...   ...   ...          ...\n",
      "8566  2019-09-10         Europe       AF1  2019     0     0            0\n",
      "8571  2019-10-10  South_America       AF1  2019     0     0            0\n",
      "8577  2019-10-13  South_America       AF1  2019     0     0            0\n",
      "8638  2020-10-13  North_America       AF1  2020     0     0            0\n",
      "8746  2021-07-03  North_America       AF1  2021     1    -1            4\n",
      "\n",
      "[275 rows x 7 columns]\n"
     ]
    }
   ],
   "source": [
    "#sample analysis on AF1\n",
    "use_AF1 = []\n",
    "for k in range (len(data)):\n",
    "    if data['home_team'][k] == 'AF1' and data['away_team'][k] not in ['AF1', 'AF2', 'AF3']:\n",
    "        use_AF1.append(k)\n",
    "for g in range (len(data)):\n",
    "    if data['away_team'][g] == 'AF1' and data['home_team'][g] not in ['AF1', 'AF2', 'AF3']:\n",
    "        use_AF1.append(g)\n",
    "data_af1 = data.filter(items = use_AF1, axis = 0)\n",
    "data_af1 = data_af1.replace(to_replace = r'^AS.$', value = 'Asia', regex = True)\n",
    "data_af1 = data_af1.replace(to_replace = r'^SA.$', value = 'South_America', regex = True)\n",
    "data_af1 = data_af1.replace(to_replace = r'^NA.$', value = 'North_America', regex = True)\n",
    "data_af1 = data_af1.replace(to_replace = r'^EU.$', value = 'Europe', regex = True)\n",
    "print(data_af1)"
   ]
  },
  {
   "cell_type": "code",
   "execution_count": 4,
   "id": "a171e577",
   "metadata": {},
   "outputs": [
    {
     "name": "stdout",
     "output_type": "stream",
     "text": [
      "    africa_tier1       opponent  match_status  goal_margin  year\n",
      "0            AF1           Asia             1            1  1960\n",
      "1            AF1         Europe            -1            1  1961\n",
      "2            AF1         Europe            -1            2  1962\n",
      "3            AF1         Europe             1            1  1963\n",
      "4            AF1         Europe            -1            3  1963\n",
      "..           ...            ...           ...          ...   ...\n",
      "270          AF1         Europe             0            0  2019\n",
      "271          AF1  South_America             0            0  2019\n",
      "272          AF1  South_America             0            0  2019\n",
      "273          AF1  North_America             0            0  2020\n",
      "274          AF1  North_America            -1            4  2021\n",
      "\n",
      "[275 rows x 5 columns]\n"
     ]
    }
   ],
   "source": [
    "af = []\n",
    "opponent = []\n",
    "match_status = []\n",
    "for x in range (len(data_af1)):\n",
    "    af.append('AF1')\n",
    "    if np.array(data_af1['home_team'])[x] == 'AF1':\n",
    "        opponent.append(np.array(data_af1['away_team'])[x])\n",
    "        match_status.append(np.array(data_af1['home'])[x])\n",
    "    else:\n",
    "        opponent.append(np.array(data_af1['home_team'])[x])\n",
    "        match_status.append(np.array(data_af1['away'])[x])\n",
    "        \n",
    "af1 = pd.DataFrame(data = {'africa_tier1' : af, 'opponent' : opponent, 'match_status' : match_status, 'goal_margin' : np.array(data_af1['goal_margin']), 'year' : np.array(data_af1['year'])})\n",
    "\n",
    "print(af1)"
   ]
  },
  {
   "cell_type": "code",
   "execution_count": 5,
   "id": "d4a31a5a",
   "metadata": {},
   "outputs": [
    {
     "name": "stdout",
     "output_type": "stream",
     "text": [
      "275\n"
     ]
    }
   ],
   "source": [
    "#making sub-data-frame wrt opponent's region\n",
    "af1_asia = []\n",
    "af1_north_america =[]\n",
    "af1_south_america =[]\n",
    "af1_europe = []\n",
    "\n",
    "for y in range (len(af1)):\n",
    "    if opponent[y] == 'Asia':\n",
    "        af1_asia.append(y)\n",
    "    elif opponent[y] == 'North_America':\n",
    "        af1_north_america.append(y)\n",
    "    elif opponent[y] == 'South_America':\n",
    "        af1_south_america.append(y)\n",
    "    if opponent[y] == 'Europe':\n",
    "        af1_europe.append(y)\n",
    "#verifying\n",
    "print(len(af1_europe) + len(af1_asia) + len(af1_south_america) + len(af1_north_america) )"
   ]
  },
  {
   "cell_type": "code",
   "execution_count": 6,
   "id": "aa8dec37",
   "metadata": {},
   "outputs": [],
   "source": [
    "#af1_vs_asia \n",
    "af1_vs_asia = af1.filter(items = af1_asia, axis = 0)\n",
    "\n",
    "#af1_vs_north_america \n",
    "af1_vs_north_america = af1.filter(items = af1_north_america, axis = 0)\n",
    "\n",
    "#af1_vs_south_america \n",
    "af1_vs_south_america = af1.filter(items = af1_south_america, axis = 0)\n",
    "\n",
    "#af1_vs_europe \n",
    "af1_vs_europe = af1.filter(items = af1_europe, axis = 0)\n",
    "\n",
    "af1_vs_asia.to_excel(\"Af_Tier1_vs_Asia.xlsx\", index = False)\n",
    "af1_vs_north_america.to_excel(\"Af_Tier1_vs_North_America.xlsx\", index = False)\n",
    "af1_vs_south_america.to_excel(\"Af_Tier1_vs_South_America.xlsx\", index = False)\n",
    "af1_vs_europe.to_excel(\"Af_Tier1_vs_Europe.xlsx\", index = False)"
   ]
  },
  {
   "cell_type": "code",
   "execution_count": 7,
   "id": "c2e9873c",
   "metadata": {},
   "outputs": [
    {
     "name": "stdout",
     "output_type": "stream",
     "text": [
      "    africa_tier1 opponent  match_status  goal_margin  year\n",
      "0            AF1     Asia             1            1  1960\n",
      "8            AF1     Asia             1            3  1972\n",
      "11           AF1     Asia             1            2  1973\n",
      "12           AF1     Asia             0            0  1973\n",
      "13           AF1     Asia             0            0  1973\n",
      "..           ...      ...           ...          ...   ...\n",
      "248          AF1     Asia             0            0  2014\n",
      "252          AF1     Asia            -1            1  2015\n",
      "253          AF1     Asia            -1            2  2015\n",
      "265          AF1     Asia             0            0  2018\n",
      "268          AF1     Asia             1            1  2018\n",
      "\n",
      "[98 rows x 5 columns]\n"
     ]
    },
    {
     "data": {
      "image/png": "[encoded data removed]",
      "text/plain": [
       "<Figure size 432x288 with 1 Axes>"
      ]
     },
     "metadata": {
      "needs_background": "light"
     },
     "output_type": "display_data"
    },
    {
     "data": {
      "text/plain": [
       "Text(0.5, 1.0, 'Histogram of match_status')"
      ]
     },
     "execution_count": 7,
     "metadata": {},
     "output_type": "execute_result"
    },
    {
     "data": {
      "image/png": "[encoded data removed]",
      "text/plain": [
       "<Figure size 432x288 with 1 Axes>"
      ]
     },
     "metadata": {
      "needs_background": "light"
     },
     "output_type": "display_data"
    }
   ],
   "source": [
    "#checking\n",
    "print(af1_vs_asia)\n",
    "\n",
    "#plot af1_vs_asia\n",
    "plt.plot(af1_vs_asia['year'], af1_vs_asia['match_status'], 'o-', ms = 2.5, color = 'green', linestyle = '')\n",
    "plt.xlabel('YEAR')\n",
    "plt.ylabel('MATCH STATUS')\n",
    "plt.title('Plot of match_status wrt years')\n",
    "plt.grid(True)\n",
    "plt.show()\n",
    "\n",
    "plt.hist(af1_vs_asia['match_status'], color = 'blue')\n",
    "plt.title('Histogram of match_status')"
   ]
  },
  {
   "cell_type": "code",
   "execution_count": null,
   "id": "779914ed",
   "metadata": {},
   "outputs": [],
   "source": []
  },
  {
   "cell_type": "code",
   "execution_count": null,
   "id": "d38b4dd0",
   "metadata": {},
   "outputs": [],
   "source": []
  },
  {
   "cell_type": "code",
   "execution_count": null,
   "id": "a0c21640",
   "metadata": {},
   "outputs": [],
   "source": []
  }
 ],
 "metadata": {
  "kernelspec": {
   "display_name": "Python 3",
   "language": "python",
   "name": "python3"
  },
  "language_info": {
   "codemirror_mode": {
    "name": "ipython",
    "version": 3
   },
   "file_extension": ".py",
   "mimetype": "text/x-python",
   "name": "python",
   "nbconvert_exporter": "python",
   "pygments_lexer": "ipython3",
   "version": "3.8.8"
  }
 },
 "nbformat": 4,
 "nbformat_minor": 5
}
