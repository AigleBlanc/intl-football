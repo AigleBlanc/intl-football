{
 "cells": [
  {
   "cell_type": "code",
   "execution_count": 1,
   "id": "f1a88e08",
   "metadata": {},
   "outputs": [],
   "source": [
    "import pandas as pd\n",
    "import numpy as np\n",
    "import matplotlib.pyplot as plt"
   ]
  },
  {
   "cell_type": "code",
   "execution_count": 2,
   "id": "ec67ce0a",
   "metadata": {},
   "outputs": [
    {
     "name": "stdout",
     "output_type": "stream",
     "text": [
      "            date home_team away_team  year  home  away  goal_margin\n",
      "0     1879-01-18       EU1       EU3  1879     1    -1            1\n",
      "1     1880-03-15       EU3       EU1  1880    -1     1            1\n",
      "2     1881-02-26       EU1       EU3  1881    -1     1            1\n",
      "3     1882-03-13       EU3       EU1  1882     1    -1            2\n",
      "4     1883-02-03       EU1       EU3  1883     1    -1            5\n",
      "...          ...       ...       ...   ...   ...   ...          ...\n",
      "8760  2021-07-20       NA2       AS1  2021    -1     1            2\n",
      "8761  2021-07-24       NA1       NA2  2021     1    -1            3\n",
      "8762  2021-07-24       AS1       NA2  2021     1    -1            1\n",
      "8763  2021-07-25       NA1       NA1  2021    -1     1            2\n",
      "8764  2021-07-29       NA1       NA1  2021     1    -1            1\n",
      "\n",
      "[8765 rows x 7 columns]\n"
     ]
    }
   ],
   "source": [
    "data = pd.read_excel('Cleaned_results.xlsx')\n",
    "data = pd.DataFrame(data)\n",
    "\n",
    "print(data)"
   ]
  },
  {
   "cell_type": "code",
   "execution_count": 3,
   "id": "07cc5ede",
   "metadata": {},
   "outputs": [
    {
     "name": "stdout",
     "output_type": "stream",
     "text": [
      "            date      home_team      away_team  year  home  away  goal_margin\n",
      "1267  1953-11-13            AF2         Europe  1953    -1     1            1\n",
      "1361  1955-12-23            AF2         Europe  1955    -1     1            4\n",
      "1523  1958-12-28            AF2         Europe  1958     1    -1            1\n",
      "1607  1960-04-29            AF2  South_America  1960    -1     1            5\n",
      "1608  1960-05-01            AF2  South_America  1960    -1     1            2\n",
      "...          ...            ...            ...   ...   ...   ...          ...\n",
      "8452  2018-11-20  South_America            AF2  2018     1    -1            1\n",
      "8557  2019-09-05           Asia            AF2  2019     0     0            0\n",
      "8616  2020-10-08         Europe            AF2  2020     0     0            0\n",
      "8621  2020-10-09           Asia            AF2  2020     0     0            0\n",
      "8637  2020-10-13           Asia            AF2  2020     1    -1            1\n",
      "\n",
      "[223 rows x 7 columns]\n"
     ]
    }
   ],
   "source": [
    "#sample analysis on AF2\n",
    "use_AF2 = []\n",
    "for k in range (len(data)):\n",
    "    if data['home_team'][k] == 'AF2' and data['away_team'][k] not in ['AF1', 'AF2', 'AF3']:\n",
    "        use_AF2.append(k)\n",
    "for g in range (len(data)):\n",
    "    if data['away_team'][g] == 'AF2' and data['home_team'][g] not in ['AF1', 'AF2', 'AF3']:\n",
    "        use_AF2.append(g)\n",
    "data_af2 = data.filter(items = use_AF2, axis = 0)\n",
    "data_af2 = data_af2.replace(to_replace = r'^AS.$', value = 'Asia', regex = True)\n",
    "data_af2 = data_af2.replace(to_replace = r'^SA.$', value = 'South_America', regex = True)\n",
    "data_af2 = data_af2.replace(to_replace = r'^NA.$', value = 'North_America', regex = True)\n",
    "data_af2 = data_af2.replace(to_replace = r'^EU.$', value = 'Europe', regex = True)\n",
    "print(data_af2)"
   ]
  },
  {
   "cell_type": "code",
   "execution_count": 4,
   "id": "78cbc8bc",
   "metadata": {},
   "outputs": [
    {
     "name": "stdout",
     "output_type": "stream",
     "text": [
      "    africa_tier2       opponent  match_status  goal_margin  year\n",
      "0            AF2         Europe            -1            1  1953\n",
      "1            AF2         Europe            -1            4  1955\n",
      "2            AF2         Europe             1            1  1958\n",
      "3            AF2  South_America            -1            5  1960\n",
      "4            AF2  South_America            -1            2  1960\n",
      "..           ...            ...           ...          ...   ...\n",
      "218          AF2  South_America            -1            1  2018\n",
      "219          AF2           Asia             0            0  2019\n",
      "220          AF2         Europe             0            0  2020\n",
      "221          AF2           Asia             0            0  2020\n",
      "222          AF2           Asia            -1            1  2020\n",
      "\n",
      "[223 rows x 5 columns]\n"
     ]
    }
   ],
   "source": [
    "af = []\n",
    "opponent = []\n",
    "match_status = []\n",
    "for x in range (len(data_af2)):\n",
    "    af.append('AF2')\n",
    "    if np.array(data_af2['home_team'])[x] == 'AF2':\n",
    "        opponent.append(np.array(data_af2['away_team'])[x])\n",
    "        match_status.append(np.array(data_af2['home'])[x])\n",
    "    else:\n",
    "        opponent.append(np.array(data_af2['home_team'])[x])\n",
    "        match_status.append(np.array(data_af2['away'])[x])\n",
    "        \n",
    "af2 = pd.DataFrame(data = {'africa_tier2' : af, 'opponent' : opponent, 'match_status' : match_status, 'goal_margin' : np.array(data_af2['goal_margin']), 'year' : np.array(data_af2['year'])})\n",
    "\n",
    "print(af2)"
   ]
  },
  {
   "cell_type": "code",
   "execution_count": 5,
   "id": "fc9d2dc6",
   "metadata": {},
   "outputs": [
    {
     "name": "stdout",
     "output_type": "stream",
     "text": [
      "223\n"
     ]
    }
   ],
   "source": [
    "#making sub-data-frame wrt opponent's region\n",
    "af2_asia = []\n",
    "af2_north_america =[]\n",
    "af2_south_america =[]\n",
    "af2_europe = []\n",
    "\n",
    "for y in range (len(af2)):\n",
    "    if opponent[y] == 'Asia':\n",
    "        af2_asia.append(y)\n",
    "    elif opponent[y] == 'North_America':\n",
    "        af2_north_america.append(y)\n",
    "    elif opponent[y] == 'South_America':\n",
    "        af2_south_america.append(y)\n",
    "    if opponent[y] == 'Europe':\n",
    "        af2_europe.append(y)\n",
    "#verifying\n",
    "print(len(af2_europe) + len(af2_asia) + len(af2_south_america) + len(af2_north_america) )"
   ]
  },
  {
   "cell_type": "code",
   "execution_count": 6,
   "id": "93fd81dd",
   "metadata": {},
   "outputs": [],
   "source": [
    "#af2_vs_asia \n",
    "af2_vs_asia = af2.filter(items = af2_asia, axis = 0)\n",
    "\n",
    "#af2_vs_north_america \n",
    "af2_vs_north_america = af2.filter(items = af2_north_america, axis = 0)\n",
    "\n",
    "#af2_vs_south_america \n",
    "af2_vs_south_america = af2.filter(items = af2_south_america, axis = 0)\n",
    "\n",
    "#af2_vs_europe \n",
    "af2_vs_europe = af2.filter(items = af2_europe, axis = 0)\n",
    "\n",
    "af2_vs_asia.to_excel(\"Af_Tier2_vs_Asia.xlsx\", index = False)\n",
    "af2_vs_north_america.to_excel(\"Af_Tier2_vs_North_America.xlsx\", index = False)\n",
    "af2_vs_south_america.to_excel(\"Af_Tier2_vs_South_America.xlsx\", index = False)\n",
    "af2_vs_europe.to_excel(\"Af_Tier2_vs_Europe.xlsx\", index = False)"
   ]
  },
  {
   "cell_type": "code",
   "execution_count": 7,
   "id": "50ea4605",
   "metadata": {},
   "outputs": [
    {
     "name": "stdout",
     "output_type": "stream",
     "text": [
      "    africa_tier2 opponent  match_status  goal_margin  year\n",
      "0            AF2   Europe            -1            1  1953\n",
      "1            AF2   Europe            -1            4  1955\n",
      "2            AF2   Europe             1            1  1958\n",
      "10           AF2   Europe             1            1  1983\n",
      "16           AF2   Europe            -1            4  1986\n",
      "..           ...      ...           ...          ...   ...\n",
      "210          AF2   Europe            -1            5  2017\n",
      "211          AF2   Europe            -1            2  2017\n",
      "214          AF2   Europe            -1            1  2018\n",
      "216          AF2   Europe            -1            3  2018\n",
      "220          AF2   Europe             0            0  2020\n",
      "\n",
      "[83 rows x 5 columns]\n"
     ]
    },
    {
     "data": {
      "image/png": "[encoded data removed]",
      "text/plain": [
       "<Figure size 432x288 with 1 Axes>"
      ]
     },
     "metadata": {
      "needs_background": "light"
     },
     "output_type": "display_data"
    },
    {
     "data": {
      "text/plain": [
       "Text(0.5, 1.0, 'Histogram of match_status')"
      ]
     },
     "execution_count": 7,
     "metadata": {},
     "output_type": "execute_result"
    },
    {
     "data": {
      "image/png": "[encoded data removed]",
      "text/plain": [
       "<Figure size 432x288 with 1 Axes>"
      ]
     },
     "metadata": {
      "needs_background": "light"
     },
     "output_type": "display_data"
    }
   ],
   "source": [
    "#checking\n",
    "print(af2_vs_europe)\n",
    "\n",
    "#plot af1_vs_europe\n",
    "plt.plot(af2_vs_europe['year'], af2_vs_europe['match_status'], 'o-', ms = 2.5, color = 'green', linestyle = '')\n",
    "plt.xlabel('YEAR')\n",
    "plt.ylabel('MATCH STATUS')\n",
    "plt.title('Plot of match_status wrt years')\n",
    "plt.grid(True)\n",
    "plt.show()\n",
    "\n",
    "plt.hist(af2_vs_europe['match_status'], color = 'blue')\n",
    "plt.title('Histogram of match_status')"
   ]
  },
  {
   "cell_type": "code",
   "execution_count": null,
   "id": "c235620c",
   "metadata": {},
   "outputs": [],
   "source": []
  },
  {
   "cell_type": "code",
   "execution_count": null,
   "id": "2f634ee4",
   "metadata": {},
   "outputs": [],
   "source": []
  },
  {
   "cell_type": "code",
   "execution_count": null,
   "id": "33cc6571",
   "metadata": {},
   "outputs": [],
   "source": []
  }
 ],
 "metadata": {
  "kernelspec": {
   "display_name": "Python 3",
   "language": "python",
   "name": "python3"
  },
  "language_info": {
   "codemirror_mode": {
    "name": "ipython",
    "version": 3
   },
   "file_extension": ".py",
   "mimetype": "text/x-python",
   "name": "python",
   "nbconvert_exporter": "python",
   "pygments_lexer": "ipython3",
   "version": "3.8.8"
  }
 },
 "nbformat": 4,
 "nbformat_minor": 5
}
