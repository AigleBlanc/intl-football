{
 "cells": [
  {
   "cell_type": "code",
   "execution_count": 1,
   "id": "31cafef5",
   "metadata": {},
   "outputs": [],
   "source": [
    "import pandas as pd\n",
    "import numpy as np\n",
    "import matplotlib.pyplot as plt "
   ]
  },
  {
   "cell_type": "code",
   "execution_count": 2,
   "id": "bf36a10b",
   "metadata": {},
   "outputs": [],
   "source": [
    "data = pd.read_excel('Cleaned_results.xlsx')\n",
    "data = pd.DataFrame(data)"
   ]
  },
  {
   "cell_type": "code",
   "execution_count": 4,
   "id": "a6a7e9b0",
   "metadata": {},
   "outputs": [
    {
     "name": "stdout",
     "output_type": "stream",
     "text": [
      "            date home_team away_team  year  home  away  goal_margin\n",
      "0     1879-01-18       EU1       EU3  1879     1    -1            1\n",
      "1     1880-03-15       EU3       EU1  1880    -1     1            1\n",
      "2     1881-02-26       EU1       EU3  1881    -1     1            1\n",
      "3     1882-03-13       EU3       EU1  1882     1    -1            2\n",
      "4     1883-02-03       EU1       EU3  1883     1    -1            5\n",
      "...          ...       ...       ...   ...   ...   ...          ...\n",
      "8760  2021-07-20       NA2       AS1  2021    -1     1            2\n",
      "8761  2021-07-24       NA1       NA2  2021     1    -1            3\n",
      "8762  2021-07-24       AS1       NA2  2021     1    -1            1\n",
      "8763  2021-07-25       NA1       NA1  2021    -1     1            2\n",
      "8764  2021-07-29       NA1       NA1  2021     1    -1            1\n",
      "\n",
      "[8765 rows x 7 columns]\n"
     ]
    }
   ],
   "source": [
    "print(data)"
   ]
  },
  {
   "cell_type": "code",
   "execution_count": null,
   "id": "5aae5df6",
   "metadata": {},
   "outputs": [],
   "source": [
    "def win_ratio(home):\n",
    "    for k in range (len(data)):\n",
    "        if data['home_team'][k] != home and data['away_team'][k] != home:\n",
    "            "
   ]
  }
 ],
 "metadata": {
  "kernelspec": {
   "display_name": "Python 3",
   "language": "python",
   "name": "python3"
  },
  "language_info": {
   "codemirror_mode": {
    "name": "ipython",
    "version": 3
   },
   "file_extension": ".py",
   "mimetype": "text/x-python",
   "name": "python",
   "nbconvert_exporter": "python",
   "pygments_lexer": "ipython3",
   "version": "3.8.8"
  }
 },
 "nbformat": 4,
 "nbformat_minor": 5
}
