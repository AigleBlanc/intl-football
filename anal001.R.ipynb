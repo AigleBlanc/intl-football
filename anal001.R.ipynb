{
 "cells": [
  {
   "cell_type": "code",
   "execution_count": 2,
   "id": "7b9d37f1",
   "metadata": {},
   "outputs": [],
   "source": [
    "library(\"readxl\")\n",
    "library('dplyr')\n",
    "library(ggplot2)"
   ]
  },
  {
   "cell_type": "code",
   "execution_count": 3,
   "id": "d8b89830",
   "metadata": {},
   "outputs": [],
   "source": [
    "data <- read_excel(\"AF1_vs_EU1.xlsx\")"
   ]
  },
  {
   "cell_type": "code",
   "execution_count": 4,
   "id": "5336b67e",
   "metadata": {},
   "outputs": [
    {
     "data": {
      "text/html": [
       "<table>\n",
       "<thead><tr><th></th><th scope=col>AF1</th><th scope=col>EU1</th></tr></thead>\n",
       "<tbody>\n",
       "\t<tr><th scope=row>Played</th><td>42.00</td><td>42.00</td></tr>\n",
       "\t<tr><th scope=row>Wins</th><td> 5.00</td><td>24.00</td></tr>\n",
       "\t<tr><th scope=row>Draws</th><td>13.00</td><td>13.00</td></tr>\n",
       "\t<tr><th scope=row>Losses</th><td>24.00</td><td> 5.00</td></tr>\n",
       "\t<tr><th scope=row>Win Ratio</th><td> 0.12</td><td> 0.57</td></tr>\n",
       "</tbody>\n",
       "</table>\n"
      ],
      "text/latex": [
       "\\begin{tabular}{r|ll}\n",
       "  & AF1 & EU1\\\\\n",
       "\\hline\n",
       "\tPlayed & 42.00 & 42.00\\\\\n",
       "\tWins &  5.00 & 24.00\\\\\n",
       "\tDraws & 13.00 & 13.00\\\\\n",
       "\tLosses & 24.00 &  5.00\\\\\n",
       "\tWin Ratio &  0.12 &  0.57\\\\\n",
       "\\end{tabular}\n"
      ],
      "text/markdown": [
       "\n",
       "| <!--/--> | AF1 | EU1 |\n",
       "|---|---|---|\n",
       "| Played | 42.00 | 42.00 |\n",
       "| Wins |  5.00 | 24.00 |\n",
       "| Draws | 13.00 | 13.00 |\n",
       "| Losses | 24.00 |  5.00 |\n",
       "| Win Ratio |  0.12 |  0.57 |\n",
       "\n"
      ],
      "text/plain": [
       "          AF1   EU1  \n",
       "Played    42.00 42.00\n",
       "Wins       5.00 24.00\n",
       "Draws     13.00 13.00\n",
       "Losses    24.00  5.00\n",
       "Win Ratio  0.12  0.57"
      ]
     },
     "metadata": {},
     "output_type": "display_data"
    }
   ],
   "source": [
    "tab <- function(passed_data){\n",
    "    a_0 <- length(passed_data$match_status)\n",
    "    a_1 <- sum(passed_data$match_status == 1)\n",
    "    a_2 <- sum(passed_data$match_status == -1)\n",
    "    a_3 <- sum(passed_data$match_status == 0)\n",
    "    a_4 <- mean(passed_data$match_status == 1)\n",
    "    a_5 <- mean(passed_data$match_status == -1)\n",
    "    table <- matrix(round(c(a_0, a_0, a_1, a_2, a_3, a_3, a_2, a_1, a_4, a_5), 2), ncol = 2, byrow = TRUE)\n",
    "    colnames(table) <- c(passed_data$region_A[1], passed_data$region_B[1])\n",
    "    rownames(table) <- c('Played', 'Wins', 'Draws', 'Losses', 'Win Ratio')\n",
    "    table\n",
    "}\n",
    "\n",
    "tab(data)\n"
   ]
  },
  {
   "cell_type": "code",
   "execution_count": 5,
   "id": "fc1985cf",
   "metadata": {},
   "outputs": [
    {
     "data": {
      "text/html": [
       "<table>\n",
       "<thead><tr><th scope=col>year</th><th scope=col>goal_margin</th><th scope=col>region_A</th><th scope=col>region_B</th><th scope=col>match_status</th><th scope=col>year_as_char</th></tr></thead>\n",
       "<tbody>\n",
       "\t<tr><td>1978</td><td>2   </td><td>AF1 </td><td>EU1 </td><td>-1  </td><td>1978</td></tr>\n",
       "\t<tr><td>1986</td><td>0   </td><td>AF1 </td><td>EU1 </td><td> 0  </td><td>1986</td></tr>\n",
       "\t<tr><td>1986</td><td>2   </td><td>AF1 </td><td>EU1 </td><td> 1  </td><td>1986</td></tr>\n",
       "\t<tr><td>1988</td><td>1   </td><td>AF1 </td><td>EU1 </td><td>-1  </td><td>1988</td></tr>\n",
       "\t<tr><td>1989</td><td>1   </td><td>AF1 </td><td>EU1 </td><td>-1  </td><td>1989</td></tr>\n",
       "\t<tr><td>1990</td><td>0   </td><td>AF1 </td><td>EU1 </td><td> 0  </td><td>1990</td></tr>\n",
       "</tbody>\n",
       "</table>\n"
      ],
      "text/latex": [
       "\\begin{tabular}{r|llllll}\n",
       " year & goal\\_margin & region\\_A & region\\_B & match\\_status & year\\_as\\_char\\\\\n",
       "\\hline\n",
       "\t 1978 & 2    & AF1  & EU1  & -1   & 1978\\\\\n",
       "\t 1986 & 0    & AF1  & EU1  &  0   & 1986\\\\\n",
       "\t 1986 & 2    & AF1  & EU1  &  1   & 1986\\\\\n",
       "\t 1988 & 1    & AF1  & EU1  & -1   & 1988\\\\\n",
       "\t 1989 & 1    & AF1  & EU1  & -1   & 1989\\\\\n",
       "\t 1990 & 0    & AF1  & EU1  &  0   & 1990\\\\\n",
       "\\end{tabular}\n"
      ],
      "text/markdown": [
       "\n",
       "| year | goal_margin | region_A | region_B | match_status | year_as_char |\n",
       "|---|---|---|---|---|---|\n",
       "| 1978 | 2    | AF1  | EU1  | -1   | 1978 |\n",
       "| 1986 | 0    | AF1  | EU1  |  0   | 1986 |\n",
       "| 1986 | 2    | AF1  | EU1  |  1   | 1986 |\n",
       "| 1988 | 1    | AF1  | EU1  | -1   | 1988 |\n",
       "| 1989 | 1    | AF1  | EU1  | -1   | 1989 |\n",
       "| 1990 | 0    | AF1  | EU1  |  0   | 1990 |\n",
       "\n"
      ],
      "text/plain": [
       "  year goal_margin region_A region_B match_status year_as_char\n",
       "1 1978 2           AF1      EU1      -1           1978        \n",
       "2 1986 0           AF1      EU1       0           1986        \n",
       "3 1986 2           AF1      EU1       1           1986        \n",
       "4 1988 1           AF1      EU1      -1           1988        \n",
       "5 1989 1           AF1      EU1      -1           1989        \n",
       "6 1990 0           AF1      EU1       0           1990        "
      ]
     },
     "metadata": {},
     "output_type": "display_data"
    }
   ],
   "source": [
    "data <- mutate(data, year_as_char = as.character(year))\n",
    "head(data)"
   ]
  },
  {
   "cell_type": "code",
   "execution_count": 6,
   "id": "460a9395",
   "metadata": {},
   "outputs": [
    {
     "data": {
      "text/html": [
       "<table>\n",
       "<thead><tr><th scope=col>year_as_char</th><th scope=col>ratio</th></tr></thead>\n",
       "<tbody>\n",
       "\t<tr><td>2008 </td><td> 0.00</td></tr>\n",
       "\t<tr><td>2009 </td><td> 1.00</td></tr>\n",
       "\t<tr><td>2010 </td><td> 0.00</td></tr>\n",
       "\t<tr><td>2013 </td><td> 0.00</td></tr>\n",
       "\t<tr><td>2014 </td><td>-1.00</td></tr>\n",
       "\t<tr><td>2018 </td><td>-0.83</td></tr>\n",
       "</tbody>\n",
       "</table>\n"
      ],
      "text/latex": [
       "\\begin{tabular}{r|ll}\n",
       " year\\_as\\_char & ratio\\\\\n",
       "\\hline\n",
       "\t 2008  &  0.00\\\\\n",
       "\t 2009  &  1.00\\\\\n",
       "\t 2010  &  0.00\\\\\n",
       "\t 2013  &  0.00\\\\\n",
       "\t 2014  & -1.00\\\\\n",
       "\t 2018  & -0.83\\\\\n",
       "\\end{tabular}\n"
      ],
      "text/markdown": [
       "\n",
       "| year_as_char | ratio |\n",
       "|---|---|\n",
       "| 2008  |  0.00 |\n",
       "| 2009  |  1.00 |\n",
       "| 2010  |  0.00 |\n",
       "| 2013  |  0.00 |\n",
       "| 2014  | -1.00 |\n",
       "| 2018  | -0.83 |\n",
       "\n"
      ],
      "text/plain": [
       "  year_as_char ratio\n",
       "1 2008          0.00\n",
       "2 2009          1.00\n",
       "3 2010          0.00\n",
       "4 2013          0.00\n",
       "5 2014         -1.00\n",
       "6 2018         -0.83"
      ]
     },
     "metadata": {},
     "output_type": "display_data"
    },
    {
     "data": {
      "text/html": [
       "21"
      ],
      "text/latex": [
       "21"
      ],
      "text/markdown": [
       "21"
      ],
      "text/plain": [
       "[1] 21"
      ]
     },
     "metadata": {},
     "output_type": "display_data"
    }
   ],
   "source": [
    "data <- data %>% group_by(year_as_char) %>% summarize(ratio = round(mean(match_status), 2))\n",
    "tail(data)\n",
    "length(data$ratio)\n",
    "\n",
    "#need to add the standard error "
   ]
  },
  {
   "cell_type": "code",
   "execution_count": 7,
   "id": "c6169e21",
   "metadata": {},
   "outputs": [
    {
     "data": {
      "image/png": "[encoded data removed]",
      "text/plain": [
       "plot without title"
      ]
     },
     "metadata": {},
     "output_type": "display_data"
    }
   ],
   "source": [
    "data %>% ggplot(aes(year_as_char, ratio)) + geom_point()"
   ]
  },
  {
   "cell_type": "code",
   "execution_count": null,
   "id": "a72a8bab",
   "metadata": {},
   "outputs": [],
   "source": []
  },
  {
   "cell_type": "code",
   "execution_count": null,
   "id": "a52d5ea9",
   "metadata": {},
   "outputs": [],
   "source": []
  }
 ],
 "metadata": {
  "kernelspec": {
   "display_name": "R",
   "language": "R",
   "name": "ir"
  },
  "language_info": {
   "codemirror_mode": "r",
   "file_extension": ".r",
   "mimetype": "text/x-r-source",
   "name": "R",
   "pygments_lexer": "r",
   "version": "3.6.1"
  }
 },
 "nbformat": 4,
 "nbformat_minor": 5
}
