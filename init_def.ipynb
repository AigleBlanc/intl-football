{
 "cells": [
  {
   "cell_type": "code",
   "execution_count": 7,
   "id": "b91f0431",
   "metadata": {},
   "outputs": [],
   "source": [
    "import pandas as pd\n",
    "import numpy as np\n",
    "import matplotlib.pyplot as plt "
   ]
  },
  {
   "cell_type": "code",
   "execution_count": 8,
   "id": "f205b7b3",
   "metadata": {},
   "outputs": [],
   "source": [
    "data = pd.read_excel('Cleaned_results.xlsx')\n",
    "data = pd.DataFrame(data)"
   ]
  },
  {
   "cell_type": "code",
   "execution_count": 9,
   "id": "c93fda40",
   "metadata": {},
   "outputs": [],
   "source": [
    "#getting the specific data given two specific tiers from two distinct regions \n",
    "\n",
    "def get_data(home, opponent):\n",
    "    rows = []\n",
    "    region_A = []\n",
    "    region_B = []\n",
    "    match_status = []\n",
    "    for k in range (len(data)):\n",
    "        if data['home_team'][k] == home and data['away_team'][k] == opponent:\n",
    "            rows.append(k)\n",
    "            match_status.append(data['home'][k])\n",
    "            region_A.append(data['home_team'][k])\n",
    "            region_B.append(data['away_team'][k])\n",
    "        elif data['home_team'][k] == opponent and data['away_team'][k] == home:\n",
    "            rows.append(k)\n",
    "            match_status.append(data['away'][k])\n",
    "            region_A.append(data['away_team'][k])\n",
    "            region_B.append(data['home_team'][k])\n",
    "    spec_data = data.filter(items = rows, axis = 0)\n",
    "    spec_data['region_A'] = region_A\n",
    "    spec_data['region_B'] = region_B\n",
    "    spec_data['match_status'] = match_status\n",
    "    spec_data = spec_data.drop('date', axis = 1)\n",
    "    spec_data = spec_data.drop('home', axis = 1)\n",
    "    spec_data = spec_data.drop('away', axis = 1)\n",
    "    spec_data = spec_data.drop('home_team', axis = 1)\n",
    "    spec_data = spec_data.drop('away_team', axis = 1)\n",
    "    return (spec_data)"
   ]
  },
  {
   "cell_type": "code",
   "execution_count": 41,
   "id": "9ef5b448",
   "metadata": {},
   "outputs": [],
   "source": [
    "AF1_vs_EU1 = get_data('AF1', 'EU1')\n",
    "AF1_vs_EU1.to_excel('AF1_vs_EU1.xlsx', index = False)"
   ]
  },
  {
   "cell_type": "code",
   "execution_count": null,
   "id": "1e63fe31",
   "metadata": {},
   "outputs": [],
   "source": []
  }
 ],
 "metadata": {
  "kernelspec": {
   "display_name": "Python 3",
   "language": "python",
   "name": "python3"
  },
  "language_info": {
   "codemirror_mode": {
    "name": "ipython",
    "version": 3
   },
   "file_extension": ".py",
   "mimetype": "text/x-python",
   "name": "python",
   "nbconvert_exporter": "python",
   "pygments_lexer": "ipython3",
   "version": "3.8.8"
  }
 },
 "nbformat": 4,
 "nbformat_minor": 5
}
